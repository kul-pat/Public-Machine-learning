{
  "nbformat": 4,
  "nbformat_minor": 0,
  "metadata": {
    "colab": {
      "name": "Heart failure NN.ipynb",
      "provenance": [],
      "authorship_tag": "ABX9TyONjUW3D0kPKe0sOfTSSE/H",
      "include_colab_link": true
    },
    "kernelspec": {
      "name": "python3",
      "display_name": "Python 3"
    },
    "language_info": {
      "name": "python"
    }
  },
  "cells": [
    {
      "cell_type": "markdown",
      "metadata": {
        "id": "view-in-github",
        "colab_type": "text"
      },
      "source": [
        "<a href=\"https://colab.research.google.com/github/kul-pat/Public-Machine-learning/blob/main/Heart_failure_NN.ipynb\" target=\"_parent\"><img src=\"https://colab.research.google.com/assets/colab-badge.svg\" alt=\"Open In Colab\"/></a>"
      ]
    },
    {
      "cell_type": "code",
      "metadata": {
        "id": "JhU1T9XICEcV"
      },
      "source": [
        "import tensorflow as tf\n",
        "import numpy as np\n",
        "from sklearn.utils import shuffle\n",
        "from sklearn.preprocessing import MinMaxScaler\n",
        "import pandas as pd"
      ],
      "execution_count": null,
      "outputs": []
    },
    {
      "cell_type": "code",
      "metadata": {
        "colab": {
          "base_uri": "https://localhost:8080/",
          "height": 224
        },
        "id": "oghqzwu0CWS2",
        "outputId": "25a0203b-7563-4965-d4e7-b3e2a07c1dd2"
      },
      "source": [
        "df = pd.read_csv('heart_failure_clinical_records_dataset.csv')\n",
        "df.head()"
      ],
      "execution_count": null,
      "outputs": [
        {
          "output_type": "execute_result",
          "data": {
            "text/html": [
              "<div>\n",
              "<style scoped>\n",
              "    .dataframe tbody tr th:only-of-type {\n",
              "        vertical-align: middle;\n",
              "    }\n",
              "\n",
              "    .dataframe tbody tr th {\n",
              "        vertical-align: top;\n",
              "    }\n",
              "\n",
              "    .dataframe thead th {\n",
              "        text-align: right;\n",
              "    }\n",
              "</style>\n",
              "<table border=\"1\" class=\"dataframe\">\n",
              "  <thead>\n",
              "    <tr style=\"text-align: right;\">\n",
              "      <th></th>\n",
              "      <th>age</th>\n",
              "      <th>anaemia</th>\n",
              "      <th>creatinine_phosphokinase</th>\n",
              "      <th>diabetes</th>\n",
              "      <th>ejection_fraction</th>\n",
              "      <th>high_blood_pressure</th>\n",
              "      <th>platelets</th>\n",
              "      <th>serum_creatinine</th>\n",
              "      <th>serum_sodium</th>\n",
              "      <th>sex</th>\n",
              "      <th>smoking</th>\n",
              "      <th>time</th>\n",
              "      <th>DEATH_EVENT</th>\n",
              "    </tr>\n",
              "  </thead>\n",
              "  <tbody>\n",
              "    <tr>\n",
              "      <th>0</th>\n",
              "      <td>75.0</td>\n",
              "      <td>0</td>\n",
              "      <td>582</td>\n",
              "      <td>0</td>\n",
              "      <td>20</td>\n",
              "      <td>1</td>\n",
              "      <td>265000.00</td>\n",
              "      <td>1.9</td>\n",
              "      <td>130</td>\n",
              "      <td>1</td>\n",
              "      <td>0</td>\n",
              "      <td>4</td>\n",
              "      <td>1</td>\n",
              "    </tr>\n",
              "    <tr>\n",
              "      <th>1</th>\n",
              "      <td>55.0</td>\n",
              "      <td>0</td>\n",
              "      <td>7861</td>\n",
              "      <td>0</td>\n",
              "      <td>38</td>\n",
              "      <td>0</td>\n",
              "      <td>263358.03</td>\n",
              "      <td>1.1</td>\n",
              "      <td>136</td>\n",
              "      <td>1</td>\n",
              "      <td>0</td>\n",
              "      <td>6</td>\n",
              "      <td>1</td>\n",
              "    </tr>\n",
              "    <tr>\n",
              "      <th>2</th>\n",
              "      <td>65.0</td>\n",
              "      <td>0</td>\n",
              "      <td>146</td>\n",
              "      <td>0</td>\n",
              "      <td>20</td>\n",
              "      <td>0</td>\n",
              "      <td>162000.00</td>\n",
              "      <td>1.3</td>\n",
              "      <td>129</td>\n",
              "      <td>1</td>\n",
              "      <td>1</td>\n",
              "      <td>7</td>\n",
              "      <td>1</td>\n",
              "    </tr>\n",
              "    <tr>\n",
              "      <th>3</th>\n",
              "      <td>50.0</td>\n",
              "      <td>1</td>\n",
              "      <td>111</td>\n",
              "      <td>0</td>\n",
              "      <td>20</td>\n",
              "      <td>0</td>\n",
              "      <td>210000.00</td>\n",
              "      <td>1.9</td>\n",
              "      <td>137</td>\n",
              "      <td>1</td>\n",
              "      <td>0</td>\n",
              "      <td>7</td>\n",
              "      <td>1</td>\n",
              "    </tr>\n",
              "    <tr>\n",
              "      <th>4</th>\n",
              "      <td>65.0</td>\n",
              "      <td>1</td>\n",
              "      <td>160</td>\n",
              "      <td>1</td>\n",
              "      <td>20</td>\n",
              "      <td>0</td>\n",
              "      <td>327000.00</td>\n",
              "      <td>2.7</td>\n",
              "      <td>116</td>\n",
              "      <td>0</td>\n",
              "      <td>0</td>\n",
              "      <td>8</td>\n",
              "      <td>1</td>\n",
              "    </tr>\n",
              "  </tbody>\n",
              "</table>\n",
              "</div>"
            ],
            "text/plain": [
              "    age  anaemia  creatinine_phosphokinase  ...  smoking  time  DEATH_EVENT\n",
              "0  75.0        0                       582  ...        0     4            1\n",
              "1  55.0        0                      7861  ...        0     6            1\n",
              "2  65.0        0                       146  ...        1     7            1\n",
              "3  50.0        1                       111  ...        0     7            1\n",
              "4  65.0        1                       160  ...        0     8            1\n",
              "\n",
              "[5 rows x 13 columns]"
            ]
          },
          "metadata": {},
          "execution_count": 52
        }
      ]
    },
    {
      "cell_type": "code",
      "metadata": {
        "colab": {
          "base_uri": "https://localhost:8080/"
        },
        "id": "MusEJ4rYO8aQ",
        "outputId": "3c9a07aa-35e1-4075-9cd0-5ae4194eac3e"
      },
      "source": [
        "print( 'Shape of DataFrame: {}'.format(df.shape))\n",
        "print (df.loc[1])"
      ],
      "execution_count": null,
      "outputs": [
        {
          "output_type": "stream",
          "name": "stdout",
          "text": [
            "Shape of DataFrame: (299, 13)\n",
            "age                             55.00\n",
            "anaemia                          0.00\n",
            "creatinine_phosphokinase      7861.00\n",
            "diabetes                         0.00\n",
            "ejection_fraction               38.00\n",
            "high_blood_pressure              0.00\n",
            "platelets                   263358.03\n",
            "serum_creatinine                 1.10\n",
            "serum_sodium                   136.00\n",
            "sex                              1.00\n",
            "smoking                          0.00\n",
            "time                             6.00\n",
            "DEATH_EVENT                      1.00\n",
            "Name: 1, dtype: float64\n"
          ]
        }
      ]
    },
    {
      "cell_type": "code",
      "metadata": {
        "colab": {
          "base_uri": "https://localhost:8080/"
        },
        "id": "sJ47pdyBPPc-",
        "outputId": "5bdbf7f6-334b-4e8a-de4b-2fb7a816d13c"
      },
      "source": [
        "# print the shape and data type of the dataframe\n",
        "print(df.shape)\n",
        "print(df.dtypes)"
      ],
      "execution_count": null,
      "outputs": [
        {
          "output_type": "stream",
          "name": "stdout",
          "text": [
            "(299, 13)\n",
            "age                         float64\n",
            "anaemia                       int64\n",
            "creatinine_phosphokinase      int64\n",
            "diabetes                      int64\n",
            "ejection_fraction             int64\n",
            "high_blood_pressure           int64\n",
            "platelets                   float64\n",
            "serum_creatinine            float64\n",
            "serum_sodium                  int64\n",
            "sex                           int64\n",
            "smoking                       int64\n",
            "time                          int64\n",
            "DEATH_EVENT                   int64\n",
            "dtype: object\n"
          ]
        }
      ]
    },
    {
      "cell_type": "code",
      "metadata": {
        "colab": {
          "base_uri": "https://localhost:8080/",
          "height": 317
        },
        "id": "2ovYYAPEPp9m",
        "outputId": "c83a7cf1-1d36-4953-99e0-56348fc36613"
      },
      "source": [
        "df.describe()"
      ],
      "execution_count": null,
      "outputs": [
        {
          "output_type": "execute_result",
          "data": {
            "text/html": [
              "<div>\n",
              "<style scoped>\n",
              "    .dataframe tbody tr th:only-of-type {\n",
              "        vertical-align: middle;\n",
              "    }\n",
              "\n",
              "    .dataframe tbody tr th {\n",
              "        vertical-align: top;\n",
              "    }\n",
              "\n",
              "    .dataframe thead th {\n",
              "        text-align: right;\n",
              "    }\n",
              "</style>\n",
              "<table border=\"1\" class=\"dataframe\">\n",
              "  <thead>\n",
              "    <tr style=\"text-align: right;\">\n",
              "      <th></th>\n",
              "      <th>age</th>\n",
              "      <th>anaemia</th>\n",
              "      <th>creatinine_phosphokinase</th>\n",
              "      <th>diabetes</th>\n",
              "      <th>ejection_fraction</th>\n",
              "      <th>high_blood_pressure</th>\n",
              "      <th>platelets</th>\n",
              "      <th>serum_creatinine</th>\n",
              "      <th>serum_sodium</th>\n",
              "      <th>sex</th>\n",
              "      <th>smoking</th>\n",
              "      <th>time</th>\n",
              "      <th>DEATH_EVENT</th>\n",
              "    </tr>\n",
              "  </thead>\n",
              "  <tbody>\n",
              "    <tr>\n",
              "      <th>count</th>\n",
              "      <td>299.000000</td>\n",
              "      <td>299.000000</td>\n",
              "      <td>299.000000</td>\n",
              "      <td>299.000000</td>\n",
              "      <td>299.000000</td>\n",
              "      <td>299.000000</td>\n",
              "      <td>299.000000</td>\n",
              "      <td>299.00000</td>\n",
              "      <td>299.000000</td>\n",
              "      <td>299.000000</td>\n",
              "      <td>299.00000</td>\n",
              "      <td>299.000000</td>\n",
              "      <td>299.00000</td>\n",
              "    </tr>\n",
              "    <tr>\n",
              "      <th>mean</th>\n",
              "      <td>60.833893</td>\n",
              "      <td>0.431438</td>\n",
              "      <td>581.839465</td>\n",
              "      <td>0.418060</td>\n",
              "      <td>38.083612</td>\n",
              "      <td>0.351171</td>\n",
              "      <td>263358.029264</td>\n",
              "      <td>1.39388</td>\n",
              "      <td>136.625418</td>\n",
              "      <td>0.648829</td>\n",
              "      <td>0.32107</td>\n",
              "      <td>130.260870</td>\n",
              "      <td>0.32107</td>\n",
              "    </tr>\n",
              "    <tr>\n",
              "      <th>std</th>\n",
              "      <td>11.894809</td>\n",
              "      <td>0.496107</td>\n",
              "      <td>970.287881</td>\n",
              "      <td>0.494067</td>\n",
              "      <td>11.834841</td>\n",
              "      <td>0.478136</td>\n",
              "      <td>97804.236869</td>\n",
              "      <td>1.03451</td>\n",
              "      <td>4.412477</td>\n",
              "      <td>0.478136</td>\n",
              "      <td>0.46767</td>\n",
              "      <td>77.614208</td>\n",
              "      <td>0.46767</td>\n",
              "    </tr>\n",
              "    <tr>\n",
              "      <th>min</th>\n",
              "      <td>40.000000</td>\n",
              "      <td>0.000000</td>\n",
              "      <td>23.000000</td>\n",
              "      <td>0.000000</td>\n",
              "      <td>14.000000</td>\n",
              "      <td>0.000000</td>\n",
              "      <td>25100.000000</td>\n",
              "      <td>0.50000</td>\n",
              "      <td>113.000000</td>\n",
              "      <td>0.000000</td>\n",
              "      <td>0.00000</td>\n",
              "      <td>4.000000</td>\n",
              "      <td>0.00000</td>\n",
              "    </tr>\n",
              "    <tr>\n",
              "      <th>25%</th>\n",
              "      <td>51.000000</td>\n",
              "      <td>0.000000</td>\n",
              "      <td>116.500000</td>\n",
              "      <td>0.000000</td>\n",
              "      <td>30.000000</td>\n",
              "      <td>0.000000</td>\n",
              "      <td>212500.000000</td>\n",
              "      <td>0.90000</td>\n",
              "      <td>134.000000</td>\n",
              "      <td>0.000000</td>\n",
              "      <td>0.00000</td>\n",
              "      <td>73.000000</td>\n",
              "      <td>0.00000</td>\n",
              "    </tr>\n",
              "    <tr>\n",
              "      <th>50%</th>\n",
              "      <td>60.000000</td>\n",
              "      <td>0.000000</td>\n",
              "      <td>250.000000</td>\n",
              "      <td>0.000000</td>\n",
              "      <td>38.000000</td>\n",
              "      <td>0.000000</td>\n",
              "      <td>262000.000000</td>\n",
              "      <td>1.10000</td>\n",
              "      <td>137.000000</td>\n",
              "      <td>1.000000</td>\n",
              "      <td>0.00000</td>\n",
              "      <td>115.000000</td>\n",
              "      <td>0.00000</td>\n",
              "    </tr>\n",
              "    <tr>\n",
              "      <th>75%</th>\n",
              "      <td>70.000000</td>\n",
              "      <td>1.000000</td>\n",
              "      <td>582.000000</td>\n",
              "      <td>1.000000</td>\n",
              "      <td>45.000000</td>\n",
              "      <td>1.000000</td>\n",
              "      <td>303500.000000</td>\n",
              "      <td>1.40000</td>\n",
              "      <td>140.000000</td>\n",
              "      <td>1.000000</td>\n",
              "      <td>1.00000</td>\n",
              "      <td>203.000000</td>\n",
              "      <td>1.00000</td>\n",
              "    </tr>\n",
              "    <tr>\n",
              "      <th>max</th>\n",
              "      <td>95.000000</td>\n",
              "      <td>1.000000</td>\n",
              "      <td>7861.000000</td>\n",
              "      <td>1.000000</td>\n",
              "      <td>80.000000</td>\n",
              "      <td>1.000000</td>\n",
              "      <td>850000.000000</td>\n",
              "      <td>9.40000</td>\n",
              "      <td>148.000000</td>\n",
              "      <td>1.000000</td>\n",
              "      <td>1.00000</td>\n",
              "      <td>285.000000</td>\n",
              "      <td>1.00000</td>\n",
              "    </tr>\n",
              "  </tbody>\n",
              "</table>\n",
              "</div>"
            ],
            "text/plain": [
              "              age     anaemia  ...        time  DEATH_EVENT\n",
              "count  299.000000  299.000000  ...  299.000000    299.00000\n",
              "mean    60.833893    0.431438  ...  130.260870      0.32107\n",
              "std     11.894809    0.496107  ...   77.614208      0.46767\n",
              "min     40.000000    0.000000  ...    4.000000      0.00000\n",
              "25%     51.000000    0.000000  ...   73.000000      0.00000\n",
              "50%     60.000000    0.000000  ...  115.000000      0.00000\n",
              "75%     70.000000    1.000000  ...  203.000000      1.00000\n",
              "max     95.000000    1.000000  ...  285.000000      1.00000\n",
              "\n",
              "[8 rows x 13 columns]"
            ]
          },
          "metadata": {},
          "execution_count": 67
        }
      ]
    },
    {
      "cell_type": "code",
      "metadata": {
        "colab": {
          "base_uri": "https://localhost:8080/"
        },
        "id": "hyc-J00qDzho",
        "outputId": "24e05cdd-6613-4fe9-a873-4233772abe13"
      },
      "source": [
        "df.shape"
      ],
      "execution_count": null,
      "outputs": [
        {
          "output_type": "execute_result",
          "data": {
            "text/plain": [
              "(299, 13)"
            ]
          },
          "metadata": {},
          "execution_count": 53
        }
      ]
    },
    {
      "cell_type": "code",
      "metadata": {
        "id": "yuueHJfCHbA9"
      },
      "source": [
        "X = np.array(df.drop(['DEATH_EVENT'], 1))\n",
        "y = np.array(df['DEATH_EVENT'])"
      ],
      "execution_count": null,
      "outputs": []
    },
    {
      "cell_type": "code",
      "metadata": {
        "colab": {
          "base_uri": "https://localhost:8080/"
        },
        "id": "qboYxiLjIJmR",
        "outputId": "d4afa154-e652-413f-afe2-a2d05e7e2241"
      },
      "source": [
        "X[0]"
      ],
      "execution_count": null,
      "outputs": [
        {
          "output_type": "execute_result",
          "data": {
            "text/plain": [
              "array([7.50e+01, 0.00e+00, 5.82e+02, 0.00e+00, 2.00e+01, 1.00e+00,\n",
              "       2.65e+05, 1.90e+00, 1.30e+02, 1.00e+00, 0.00e+00, 4.00e+00])"
            ]
          },
          "metadata": {},
          "execution_count": 70
        }
      ]
    },
    {
      "cell_type": "code",
      "metadata": {
        "id": "sYBl9jK6E-9G"
      },
      "source": [
        "mean = X.mean(axis=0)\n",
        "X -= mean\n",
        "std = X.std(axis=0)\n",
        "X /= std"
      ],
      "execution_count": null,
      "outputs": []
    },
    {
      "cell_type": "code",
      "metadata": {
        "colab": {
          "base_uri": "https://localhost:8080/"
        },
        "id": "sjFTeOi2K_Df",
        "outputId": "77a62f31-c99a-4337-95af-d050c54e8227"
      },
      "source": [
        "X[0]"
      ],
      "execution_count": null,
      "outputs": [
        {
          "output_type": "execute_result",
          "data": {
            "text/plain": [
              "array([ 1.19294523e+00, -8.71104775e-01,  1.65728387e-04, -8.47579380e-01,\n",
              "       -1.53055953e+00,  1.35927151e+00,  1.68164843e-02,  4.90056987e-01,\n",
              "       -1.50403612e+00,  7.35688190e-01, -6.87681906e-01, -1.62950241e+00])"
            ]
          },
          "metadata": {},
          "execution_count": 72
        }
      ]
    },
    {
      "cell_type": "code",
      "metadata": {
        "id": "lHap35mAFFOL"
      },
      "source": [
        "# create X and Y datasets for training\n",
        "from sklearn import model_selection\n",
        "\n",
        "X_train, X_test, y_train, y_test = model_selection.train_test_split(X, y, stratify=y, random_state=0, test_size = 0.2)"
      ],
      "execution_count": null,
      "outputs": []
    },
    {
      "cell_type": "code",
      "metadata": {
        "id": "-DyZ8b5HFlIT"
      },
      "source": [
        "import tensorflow as tf\n",
        "from tensorflow import keras\n",
        "from tensorflow.keras.models import Sequential\n",
        "from tensorflow.keras.layers import Activation,Dense\n",
        "from tensorflow.keras.metrics import categorical_crossentropy\n",
        "from tensorflow.keras.optimizers import Adam\n",
        "from keras.layers import Dropout\n",
        "from keras import regularizers"
      ],
      "execution_count": null,
      "outputs": []
    },
    {
      "cell_type": "code",
      "metadata": {
        "colab": {
          "base_uri": "https://localhost:8080/"
        },
        "id": "7XCaHXHnRX2A",
        "outputId": "f3803888-c5f1-41df-f328-2e90122deff3"
      },
      "source": [
        "# convert the data to categorical labels\n",
        "from keras.utils.np_utils import to_categorical\n",
        "\n",
        "Y_train = to_categorical(y_train, num_classes=None)\n",
        "Y_test = to_categorical(y_test, num_classes=None)\n",
        "print (Y_train.shape)\n",
        "print (Y_train[:10])"
      ],
      "execution_count": null,
      "outputs": [
        {
          "output_type": "stream",
          "name": "stdout",
          "text": [
            "(239, 2)\n",
            "[[1. 0.]\n",
            " [0. 1.]\n",
            " [0. 1.]\n",
            " [0. 1.]\n",
            " [1. 0.]\n",
            " [1. 0.]\n",
            " [1. 0.]\n",
            " [1. 0.]\n",
            " [1. 0.]\n",
            " [0. 1.]]\n"
          ]
        }
      ]
    },
    {
      "cell_type": "code",
      "metadata": {
        "id": "KdfWqUw6GX98",
        "colab": {
          "base_uri": "https://localhost:8080/"
        },
        "outputId": "ae6f570e-c998-45dc-cc68-1fe80a786099"
      },
      "source": [
        "# define a function to build the keras model\n",
        "def create_model():\n",
        "    # create model\n",
        "    model = Sequential()\n",
        "    model.add(Dense(16, input_dim=12, kernel_initializer='normal', kernel_regularizer=regularizers.l2(0.001), activation='relu'))\n",
        "    model.add(Dropout(0.25))\n",
        "    model.add(Dense(8, kernel_initializer='normal', kernel_regularizer=regularizers.l2(0.001), activation='relu'))\n",
        "    model.add(Dropout(0.25))\n",
        "    model.add(Dense(2, activation='softmax'))\n",
        "    \n",
        "    # compile model\n",
        "    adam = Adam(lr=0.001)\n",
        "    model.compile(loss='categorical_crossentropy', optimizer='rmsprop', metrics=['accuracy'])\n",
        "    return model\n",
        "\n",
        "model = create_model()\n",
        "\n",
        "print(model.summary())"
      ],
      "execution_count": null,
      "outputs": [
        {
          "output_type": "stream",
          "name": "stdout",
          "text": [
            "Model: \"sequential_1\"\n",
            "_________________________________________________________________\n",
            "Layer (type)                 Output Shape              Param #   \n",
            "=================================================================\n",
            "dense_3 (Dense)              (None, 16)                208       \n",
            "_________________________________________________________________\n",
            "dropout_2 (Dropout)          (None, 16)                0         \n",
            "_________________________________________________________________\n",
            "dense_4 (Dense)              (None, 8)                 136       \n",
            "_________________________________________________________________\n",
            "dropout_3 (Dropout)          (None, 8)                 0         \n",
            "_________________________________________________________________\n",
            "dense_5 (Dense)              (None, 2)                 18        \n",
            "=================================================================\n",
            "Total params: 362\n",
            "Trainable params: 362\n",
            "Non-trainable params: 0\n",
            "_________________________________________________________________\n",
            "None\n"
          ]
        },
        {
          "output_type": "stream",
          "name": "stderr",
          "text": [
            "/usr/local/lib/python3.7/dist-packages/keras/optimizer_v2/optimizer_v2.py:356: UserWarning: The `lr` argument is deprecated, use `learning_rate` instead.\n",
            "  \"The `lr` argument is deprecated, use `learning_rate` instead.\")\n"
          ]
        }
      ]
    },
    {
      "cell_type": "code",
      "metadata": {
        "colab": {
          "base_uri": "https://localhost:8080/"
        },
        "id": "FMKe7u00GsCp",
        "outputId": "87eedc69-cfd2-48b1-af94-04321b00a34f"
      },
      "source": [
        "history =model.fit(X_train, Y_train, validation_data=(X_test, Y_test),epochs=50, batch_size=10)"
      ],
      "execution_count": null,
      "outputs": [
        {
          "output_type": "stream",
          "name": "stdout",
          "text": [
            "Epoch 1/50\n",
            "24/24 [==============================] - 0s 4ms/step - loss: 0.2798 - accuracy: 0.8787 - val_loss: 0.4574 - val_accuracy: 0.8167\n",
            "Epoch 2/50\n",
            "24/24 [==============================] - 0s 3ms/step - loss: 0.3274 - accuracy: 0.8661 - val_loss: 0.4522 - val_accuracy: 0.8167\n",
            "Epoch 3/50\n",
            "24/24 [==============================] - 0s 4ms/step - loss: 0.3082 - accuracy: 0.8703 - val_loss: 0.4523 - val_accuracy: 0.8167\n",
            "Epoch 4/50\n",
            "24/24 [==============================] - 0s 3ms/step - loss: 0.2749 - accuracy: 0.9038 - val_loss: 0.4616 - val_accuracy: 0.8167\n",
            "Epoch 5/50\n",
            "24/24 [==============================] - 0s 3ms/step - loss: 0.3088 - accuracy: 0.8787 - val_loss: 0.4582 - val_accuracy: 0.8167\n",
            "Epoch 6/50\n",
            "24/24 [==============================] - 0s 3ms/step - loss: 0.3118 - accuracy: 0.8703 - val_loss: 0.4591 - val_accuracy: 0.8167\n",
            "Epoch 7/50\n",
            "24/24 [==============================] - 0s 3ms/step - loss: 0.2753 - accuracy: 0.8954 - val_loss: 0.4701 - val_accuracy: 0.8167\n",
            "Epoch 8/50\n",
            "24/24 [==============================] - 0s 3ms/step - loss: 0.3018 - accuracy: 0.8787 - val_loss: 0.4672 - val_accuracy: 0.8167\n",
            "Epoch 9/50\n",
            "24/24 [==============================] - 0s 3ms/step - loss: 0.3120 - accuracy: 0.8870 - val_loss: 0.4654 - val_accuracy: 0.8167\n",
            "Epoch 10/50\n",
            "24/24 [==============================] - 0s 3ms/step - loss: 0.2961 - accuracy: 0.8870 - val_loss: 0.4653 - val_accuracy: 0.8167\n",
            "Epoch 11/50\n",
            "24/24 [==============================] - 0s 2ms/step - loss: 0.2888 - accuracy: 0.8996 - val_loss: 0.4661 - val_accuracy: 0.8167\n",
            "Epoch 12/50\n",
            "24/24 [==============================] - 0s 4ms/step - loss: 0.2580 - accuracy: 0.9038 - val_loss: 0.4711 - val_accuracy: 0.8167\n",
            "Epoch 13/50\n",
            "24/24 [==============================] - 0s 3ms/step - loss: 0.3121 - accuracy: 0.8619 - val_loss: 0.4735 - val_accuracy: 0.8167\n",
            "Epoch 14/50\n",
            "24/24 [==============================] - 0s 3ms/step - loss: 0.2595 - accuracy: 0.9121 - val_loss: 0.4738 - val_accuracy: 0.8167\n",
            "Epoch 15/50\n",
            "24/24 [==============================] - 0s 3ms/step - loss: 0.2942 - accuracy: 0.8577 - val_loss: 0.4663 - val_accuracy: 0.8167\n",
            "Epoch 16/50\n",
            "24/24 [==============================] - 0s 3ms/step - loss: 0.2774 - accuracy: 0.8870 - val_loss: 0.4644 - val_accuracy: 0.8167\n",
            "Epoch 17/50\n",
            "24/24 [==============================] - 0s 3ms/step - loss: 0.2733 - accuracy: 0.8954 - val_loss: 0.4680 - val_accuracy: 0.8167\n",
            "Epoch 18/50\n",
            "24/24 [==============================] - 0s 3ms/step - loss: 0.2553 - accuracy: 0.9079 - val_loss: 0.4791 - val_accuracy: 0.8167\n",
            "Epoch 19/50\n",
            "24/24 [==============================] - 0s 3ms/step - loss: 0.2878 - accuracy: 0.8870 - val_loss: 0.4756 - val_accuracy: 0.8167\n",
            "Epoch 20/50\n",
            "24/24 [==============================] - 0s 3ms/step - loss: 0.2685 - accuracy: 0.8828 - val_loss: 0.4785 - val_accuracy: 0.8167\n",
            "Epoch 21/50\n",
            "24/24 [==============================] - 0s 3ms/step - loss: 0.2686 - accuracy: 0.8828 - val_loss: 0.4845 - val_accuracy: 0.8167\n",
            "Epoch 22/50\n",
            "24/24 [==============================] - 0s 4ms/step - loss: 0.2854 - accuracy: 0.8954 - val_loss: 0.4774 - val_accuracy: 0.8167\n",
            "Epoch 23/50\n",
            "24/24 [==============================] - 0s 3ms/step - loss: 0.2590 - accuracy: 0.8828 - val_loss: 0.4821 - val_accuracy: 0.8167\n",
            "Epoch 24/50\n",
            "24/24 [==============================] - 0s 3ms/step - loss: 0.3196 - accuracy: 0.8828 - val_loss: 0.4758 - val_accuracy: 0.8167\n",
            "Epoch 25/50\n",
            "24/24 [==============================] - 0s 3ms/step - loss: 0.3035 - accuracy: 0.8828 - val_loss: 0.4812 - val_accuracy: 0.8167\n",
            "Epoch 26/50\n",
            "24/24 [==============================] - 0s 2ms/step - loss: 0.3143 - accuracy: 0.8912 - val_loss: 0.4765 - val_accuracy: 0.8333\n",
            "Epoch 27/50\n",
            "24/24 [==============================] - 0s 2ms/step - loss: 0.2423 - accuracy: 0.9038 - val_loss: 0.4735 - val_accuracy: 0.8167\n",
            "Epoch 28/50\n",
            "24/24 [==============================] - 0s 3ms/step - loss: 0.2762 - accuracy: 0.8996 - val_loss: 0.4726 - val_accuracy: 0.8167\n",
            "Epoch 29/50\n",
            "24/24 [==============================] - 0s 3ms/step - loss: 0.2988 - accuracy: 0.8745 - val_loss: 0.4768 - val_accuracy: 0.8167\n",
            "Epoch 30/50\n",
            "24/24 [==============================] - 0s 3ms/step - loss: 0.2741 - accuracy: 0.8996 - val_loss: 0.4815 - val_accuracy: 0.8167\n",
            "Epoch 31/50\n",
            "24/24 [==============================] - 0s 3ms/step - loss: 0.2323 - accuracy: 0.9038 - val_loss: 0.4857 - val_accuracy: 0.8167\n",
            "Epoch 32/50\n",
            "24/24 [==============================] - 0s 3ms/step - loss: 0.2461 - accuracy: 0.9079 - val_loss: 0.4929 - val_accuracy: 0.8167\n",
            "Epoch 33/50\n",
            "24/24 [==============================] - 0s 3ms/step - loss: 0.2821 - accuracy: 0.8954 - val_loss: 0.4840 - val_accuracy: 0.8167\n",
            "Epoch 34/50\n",
            "24/24 [==============================] - 0s 3ms/step - loss: 0.3109 - accuracy: 0.8787 - val_loss: 0.4831 - val_accuracy: 0.8333\n",
            "Epoch 35/50\n",
            "24/24 [==============================] - 0s 3ms/step - loss: 0.2608 - accuracy: 0.8912 - val_loss: 0.4842 - val_accuracy: 0.8333\n",
            "Epoch 36/50\n",
            "24/24 [==============================] - 0s 3ms/step - loss: 0.2324 - accuracy: 0.9079 - val_loss: 0.4955 - val_accuracy: 0.8167\n",
            "Epoch 37/50\n",
            "24/24 [==============================] - 0s 2ms/step - loss: 0.2492 - accuracy: 0.9079 - val_loss: 0.5069 - val_accuracy: 0.8333\n",
            "Epoch 38/50\n",
            "24/24 [==============================] - 0s 3ms/step - loss: 0.2982 - accuracy: 0.8870 - val_loss: 0.4999 - val_accuracy: 0.8333\n",
            "Epoch 39/50\n",
            "24/24 [==============================] - 0s 3ms/step - loss: 0.2599 - accuracy: 0.9121 - val_loss: 0.4984 - val_accuracy: 0.8333\n",
            "Epoch 40/50\n",
            "24/24 [==============================] - 0s 3ms/step - loss: 0.2479 - accuracy: 0.9079 - val_loss: 0.5058 - val_accuracy: 0.8333\n",
            "Epoch 41/50\n",
            "24/24 [==============================] - 0s 3ms/step - loss: 0.2530 - accuracy: 0.9163 - val_loss: 0.5116 - val_accuracy: 0.8333\n",
            "Epoch 42/50\n",
            "24/24 [==============================] - 0s 2ms/step - loss: 0.2821 - accuracy: 0.9038 - val_loss: 0.5119 - val_accuracy: 0.8333\n",
            "Epoch 43/50\n",
            "24/24 [==============================] - 0s 2ms/step - loss: 0.2593 - accuracy: 0.8870 - val_loss: 0.5099 - val_accuracy: 0.8167\n",
            "Epoch 44/50\n",
            "24/24 [==============================] - 0s 2ms/step - loss: 0.2448 - accuracy: 0.9079 - val_loss: 0.5138 - val_accuracy: 0.8167\n",
            "Epoch 45/50\n",
            "24/24 [==============================] - 0s 2ms/step - loss: 0.2934 - accuracy: 0.8954 - val_loss: 0.5040 - val_accuracy: 0.8167\n",
            "Epoch 46/50\n",
            "24/24 [==============================] - 0s 2ms/step - loss: 0.2628 - accuracy: 0.9079 - val_loss: 0.4991 - val_accuracy: 0.8167\n",
            "Epoch 47/50\n",
            "24/24 [==============================] - 0s 2ms/step - loss: 0.2691 - accuracy: 0.8954 - val_loss: 0.4992 - val_accuracy: 0.8167\n",
            "Epoch 48/50\n",
            "24/24 [==============================] - 0s 2ms/step - loss: 0.2922 - accuracy: 0.8954 - val_loss: 0.4929 - val_accuracy: 0.8167\n",
            "Epoch 49/50\n",
            "24/24 [==============================] - 0s 2ms/step - loss: 0.3017 - accuracy: 0.9121 - val_loss: 0.4973 - val_accuracy: 0.8167\n",
            "Epoch 50/50\n",
            "24/24 [==============================] - 0s 2ms/step - loss: 0.2784 - accuracy: 0.8954 - val_loss: 0.4999 - val_accuracy: 0.8167\n"
          ]
        }
      ]
    },
    {
      "cell_type": "code",
      "metadata": {
        "colab": {
          "base_uri": "https://localhost:8080/",
          "height": 295
        },
        "id": "mZXRdu7CT68n",
        "outputId": "2279c80c-b057-4185-914a-08f8f6c6e0fb"
      },
      "source": [
        "import matplotlib.pyplot as plt\n",
        "%matplotlib inline\n",
        "# Model accuracy\n",
        "plt.plot(history.history['accuracy'])\n",
        "plt.plot(history.history['val_accuracy'])\n",
        "plt.title('Model Accuracy')\n",
        "plt.ylabel('accuracy')\n",
        "plt.xlabel('epoch')\n",
        "plt.legend(['train', 'test'])\n",
        "plt.show()"
      ],
      "execution_count": null,
      "outputs": [
        {
          "output_type": "display_data",
          "data": {
            "image/png": "[encoded data removed]",
            "text/plain": [
              "<Figure size 432x288 with 1 Axes>"
            ]
          },
          "metadata": {
            "needs_background": "light"
          }
        }
      ]
    },
    {
      "cell_type": "code",
      "metadata": {
        "colab": {
          "base_uri": "https://localhost:8080/",
          "height": 295
        },
        "id": "9PDW0k0QVizq",
        "outputId": "65b10a4e-8c14-4263-ab53-88855a0e6cb7"
      },
      "source": [
        "# Model Losss\n",
        "plt.plot(history.history['loss'])\n",
        "plt.plot(history.history['val_loss'])\n",
        "plt.title('Model Loss')\n",
        "plt.ylabel('loss')\n",
        "plt.xlabel('epoch')\n",
        "plt.legend(['train', 'test'])\n",
        "plt.show()"
      ],
      "execution_count": null,
      "outputs": [
        {
          "output_type": "display_data",
          "data": {
            "image/png": "[encoded data removed]",
            "text/plain": [
              "<Figure size 432x288 with 1 Axes>"
            ]
          },
          "metadata": {
            "needs_background": "light"
          }
        }
      ]
    },
    {
      "cell_type": "code",
      "metadata": {
        "colab": {
          "base_uri": "https://localhost:8080/"
        },
        "id": "AmbrqbzyX3ga",
        "outputId": "72968010-5391-4d77-c33d-2728c3e96ae1"
      },
      "source": [
        "# convert into binary classification problem - heart disease or no heart disease\n",
        "Y_train_binary = y_train.copy()\n",
        "Y_test_binary = y_test.copy()\n",
        "\n",
        "Y_train_binary[Y_train_binary > 0] = 1\n",
        "Y_test_binary[Y_test_binary > 0] = 1\n",
        "\n",
        "print(Y_train_binary[:20])"
      ],
      "execution_count": null,
      "outputs": [
        {
          "output_type": "stream",
          "name": "stdout",
          "text": [
            "[0 1 1 1 0 0 0 0 0 1 1 0 0 0 0 0 0 0 0 0]\n"
          ]
        }
      ]
    },
    {
      "cell_type": "code",
      "metadata": {
        "colab": {
          "base_uri": "https://localhost:8080/"
        },
        "id": "vx1CEgG-YBEY",
        "outputId": "ae84b6c7-a6a1-42ea-a020-22b6429c26ee"
      },
      "source": [
        "# define a new keras model for binary classification\n",
        "def create_binary_model():\n",
        "    # create model\n",
        "    model = Sequential()\n",
        "    model.add(Dense(16, input_dim=12, kernel_initializer='normal',  kernel_regularizer=regularizers.l2(0.001),activation='relu'))\n",
        "    model.add(Dropout(0.25))\n",
        "    model.add(Dense(8, kernel_initializer='normal',  kernel_regularizer=regularizers.l2(0.001),activation='relu'))\n",
        "    model.add(Dropout(0.25))\n",
        "    model.add(Dense(1, activation='sigmoid'))\n",
        "    # Compile model\n",
        "    adam = Adam(lr=0.001)\n",
        "    model.compile(loss='binary_crossentropy', optimizer='rmsprop', metrics=['accuracy'])\n",
        "    return model\n",
        "\n",
        "binary_model = create_binary_model()\n",
        "\n",
        "print(binary_model.summary())"
      ],
      "execution_count": null,
      "outputs": [
        {
          "output_type": "stream",
          "name": "stdout",
          "text": [
            "Model: \"sequential_2\"\n",
            "_________________________________________________________________\n",
            "Layer (type)                 Output Shape              Param #   \n",
            "=================================================================\n",
            "dense_6 (Dense)              (None, 16)                208       \n",
            "_________________________________________________________________\n",
            "dropout_4 (Dropout)          (None, 16)                0         \n",
            "_________________________________________________________________\n",
            "dense_7 (Dense)              (None, 8)                 136       \n",
            "_________________________________________________________________\n",
            "dropout_5 (Dropout)          (None, 8)                 0         \n",
            "_________________________________________________________________\n",
            "dense_8 (Dense)              (None, 1)                 9         \n",
            "=================================================================\n",
            "Total params: 353\n",
            "Trainable params: 353\n",
            "Non-trainable params: 0\n",
            "_________________________________________________________________\n",
            "None\n"
          ]
        },
        {
          "output_type": "stream",
          "name": "stderr",
          "text": [
            "/usr/local/lib/python3.7/dist-packages/keras/optimizer_v2/optimizer_v2.py:356: UserWarning: The `lr` argument is deprecated, use `learning_rate` instead.\n",
            "  \"The `lr` argument is deprecated, use `learning_rate` instead.\")\n"
          ]
        }
      ]
    },
    {
      "cell_type": "code",
      "metadata": {
        "colab": {
          "base_uri": "https://localhost:8080/"
        },
        "id": "ShsfJncDYLQB",
        "outputId": "8a0ad625-636a-42ec-9dd4-fa979e223b98"
      },
      "source": [
        "# fit the binary model on the training data\n",
        "history=binary_model.fit(X_train, Y_train_binary, validation_data=(X_test, Y_test_binary), epochs=50, batch_size=10)"
      ],
      "execution_count": null,
      "outputs": [
        {
          "output_type": "stream",
          "name": "stdout",
          "text": [
            "Epoch 1/50\n",
            "24/24 [==============================] - 1s 8ms/step - loss: 0.6899 - accuracy: 0.6109 - val_loss: 0.6827 - val_accuracy: 0.7000\n",
            "Epoch 2/50\n",
            "24/24 [==============================] - 0s 2ms/step - loss: 0.6805 - accuracy: 0.7280 - val_loss: 0.6744 - val_accuracy: 0.6833\n",
            "Epoch 3/50\n",
            "24/24 [==============================] - 0s 2ms/step - loss: 0.6721 - accuracy: 0.7113 - val_loss: 0.6651 - val_accuracy: 0.7000\n",
            "Epoch 4/50\n",
            "24/24 [==============================] - 0s 2ms/step - loss: 0.6602 - accuracy: 0.7197 - val_loss: 0.6513 - val_accuracy: 0.7500\n",
            "Epoch 5/50\n",
            "24/24 [==============================] - 0s 4ms/step - loss: 0.6479 - accuracy: 0.7322 - val_loss: 0.6342 - val_accuracy: 0.7500\n",
            "Epoch 6/50\n",
            "24/24 [==============================] - 0s 3ms/step - loss: 0.6297 - accuracy: 0.7364 - val_loss: 0.6129 - val_accuracy: 0.8000\n",
            "Epoch 7/50\n",
            "24/24 [==============================] - 0s 2ms/step - loss: 0.6027 - accuracy: 0.7573 - val_loss: 0.5876 - val_accuracy: 0.8333\n",
            "Epoch 8/50\n",
            "24/24 [==============================] - 0s 3ms/step - loss: 0.5825 - accuracy: 0.7992 - val_loss: 0.5590 - val_accuracy: 0.8167\n",
            "Epoch 9/50\n",
            "24/24 [==============================] - 0s 3ms/step - loss: 0.5497 - accuracy: 0.8201 - val_loss: 0.5310 - val_accuracy: 0.8167\n",
            "Epoch 10/50\n",
            "24/24 [==============================] - 0s 3ms/step - loss: 0.5304 - accuracy: 0.7866 - val_loss: 0.5029 - val_accuracy: 0.8167\n",
            "Epoch 11/50\n",
            "24/24 [==============================] - 0s 4ms/step - loss: 0.4990 - accuracy: 0.8117 - val_loss: 0.4761 - val_accuracy: 0.8333\n",
            "Epoch 12/50\n",
            "24/24 [==============================] - 0s 3ms/step - loss: 0.5014 - accuracy: 0.7992 - val_loss: 0.4558 - val_accuracy: 0.8333\n",
            "Epoch 13/50\n",
            "24/24 [==============================] - 0s 3ms/step - loss: 0.4648 - accuracy: 0.8452 - val_loss: 0.4335 - val_accuracy: 0.8333\n",
            "Epoch 14/50\n",
            "24/24 [==============================] - 0s 3ms/step - loss: 0.4442 - accuracy: 0.8201 - val_loss: 0.4159 - val_accuracy: 0.8333\n",
            "Epoch 15/50\n",
            "24/24 [==============================] - 0s 3ms/step - loss: 0.4084 - accuracy: 0.8494 - val_loss: 0.4007 - val_accuracy: 0.8333\n",
            "Epoch 16/50\n",
            "24/24 [==============================] - 0s 3ms/step - loss: 0.4447 - accuracy: 0.8159 - val_loss: 0.3927 - val_accuracy: 0.8333\n",
            "Epoch 17/50\n",
            "24/24 [==============================] - 0s 3ms/step - loss: 0.4330 - accuracy: 0.8159 - val_loss: 0.3875 - val_accuracy: 0.8333\n",
            "Epoch 18/50\n",
            "24/24 [==============================] - 0s 3ms/step - loss: 0.4009 - accuracy: 0.8368 - val_loss: 0.3805 - val_accuracy: 0.8167\n",
            "Epoch 19/50\n",
            "24/24 [==============================] - 0s 3ms/step - loss: 0.4292 - accuracy: 0.8285 - val_loss: 0.3786 - val_accuracy: 0.8333\n",
            "Epoch 20/50\n",
            "24/24 [==============================] - 0s 3ms/step - loss: 0.4316 - accuracy: 0.8285 - val_loss: 0.3772 - val_accuracy: 0.8333\n",
            "Epoch 21/50\n",
            "24/24 [==============================] - 0s 3ms/step - loss: 0.4019 - accuracy: 0.8452 - val_loss: 0.3753 - val_accuracy: 0.8333\n",
            "Epoch 22/50\n",
            "24/24 [==============================] - 0s 3ms/step - loss: 0.4340 - accuracy: 0.8326 - val_loss: 0.3725 - val_accuracy: 0.8333\n",
            "Epoch 23/50\n",
            "24/24 [==============================] - 0s 3ms/step - loss: 0.4110 - accuracy: 0.8326 - val_loss: 0.3711 - val_accuracy: 0.8333\n",
            "Epoch 24/50\n",
            "24/24 [==============================] - 0s 3ms/step - loss: 0.3991 - accuracy: 0.8117 - val_loss: 0.3708 - val_accuracy: 0.8333\n",
            "Epoch 25/50\n",
            "24/24 [==============================] - 0s 3ms/step - loss: 0.4266 - accuracy: 0.8368 - val_loss: 0.3699 - val_accuracy: 0.8333\n",
            "Epoch 26/50\n",
            "24/24 [==============================] - 0s 3ms/step - loss: 0.3926 - accuracy: 0.8577 - val_loss: 0.3682 - val_accuracy: 0.8333\n",
            "Epoch 27/50\n",
            "24/24 [==============================] - 0s 3ms/step - loss: 0.4032 - accuracy: 0.8326 - val_loss: 0.3692 - val_accuracy: 0.8333\n",
            "Epoch 28/50\n",
            "24/24 [==============================] - 0s 4ms/step - loss: 0.3892 - accuracy: 0.8326 - val_loss: 0.3697 - val_accuracy: 0.8333\n",
            "Epoch 29/50\n",
            "24/24 [==============================] - 0s 2ms/step - loss: 0.3833 - accuracy: 0.8326 - val_loss: 0.3692 - val_accuracy: 0.8333\n",
            "Epoch 30/50\n",
            "24/24 [==============================] - 0s 3ms/step - loss: 0.3845 - accuracy: 0.8410 - val_loss: 0.3721 - val_accuracy: 0.8333\n",
            "Epoch 31/50\n",
            "24/24 [==============================] - 0s 3ms/step - loss: 0.3888 - accuracy: 0.8410 - val_loss: 0.3699 - val_accuracy: 0.8333\n",
            "Epoch 32/50\n",
            "24/24 [==============================] - 0s 3ms/step - loss: 0.4077 - accuracy: 0.8075 - val_loss: 0.3696 - val_accuracy: 0.8333\n",
            "Epoch 33/50\n",
            "24/24 [==============================] - 0s 3ms/step - loss: 0.3827 - accuracy: 0.8326 - val_loss: 0.3688 - val_accuracy: 0.8333\n",
            "Epoch 34/50\n",
            "24/24 [==============================] - 0s 3ms/step - loss: 0.3594 - accuracy: 0.8494 - val_loss: 0.3710 - val_accuracy: 0.8333\n",
            "Epoch 35/50\n",
            "24/24 [==============================] - 0s 3ms/step - loss: 0.3983 - accuracy: 0.8326 - val_loss: 0.3694 - val_accuracy: 0.8333\n",
            "Epoch 36/50\n",
            "24/24 [==============================] - 0s 2ms/step - loss: 0.3855 - accuracy: 0.8159 - val_loss: 0.3704 - val_accuracy: 0.8333\n",
            "Epoch 37/50\n",
            "24/24 [==============================] - 0s 2ms/step - loss: 0.3957 - accuracy: 0.8452 - val_loss: 0.3706 - val_accuracy: 0.8333\n",
            "Epoch 38/50\n",
            "24/24 [==============================] - 0s 3ms/step - loss: 0.3815 - accuracy: 0.8494 - val_loss: 0.3710 - val_accuracy: 0.8333\n",
            "Epoch 39/50\n",
            "24/24 [==============================] - 0s 3ms/step - loss: 0.3570 - accuracy: 0.8619 - val_loss: 0.3704 - val_accuracy: 0.8333\n",
            "Epoch 40/50\n",
            "24/24 [==============================] - 0s 2ms/step - loss: 0.3774 - accuracy: 0.8326 - val_loss: 0.3723 - val_accuracy: 0.8333\n",
            "Epoch 41/50\n",
            "24/24 [==============================] - 0s 2ms/step - loss: 0.3777 - accuracy: 0.8577 - val_loss: 0.3725 - val_accuracy: 0.8333\n",
            "Epoch 42/50\n",
            "24/24 [==============================] - 0s 2ms/step - loss: 0.3676 - accuracy: 0.8410 - val_loss: 0.3733 - val_accuracy: 0.8333\n",
            "Epoch 43/50\n",
            "24/24 [==============================] - 0s 3ms/step - loss: 0.4027 - accuracy: 0.8536 - val_loss: 0.3721 - val_accuracy: 0.8333\n",
            "Epoch 44/50\n",
            "24/24 [==============================] - 0s 3ms/step - loss: 0.3898 - accuracy: 0.8410 - val_loss: 0.3734 - val_accuracy: 0.8333\n",
            "Epoch 45/50\n",
            "24/24 [==============================] - 0s 2ms/step - loss: 0.3810 - accuracy: 0.8410 - val_loss: 0.3748 - val_accuracy: 0.8333\n",
            "Epoch 46/50\n",
            "24/24 [==============================] - 0s 3ms/step - loss: 0.3514 - accuracy: 0.8326 - val_loss: 0.3755 - val_accuracy: 0.8333\n",
            "Epoch 47/50\n",
            "24/24 [==============================] - 0s 2ms/step - loss: 0.3781 - accuracy: 0.8703 - val_loss: 0.3768 - val_accuracy: 0.8333\n",
            "Epoch 48/50\n",
            "24/24 [==============================] - 0s 3ms/step - loss: 0.3368 - accuracy: 0.8703 - val_loss: 0.3790 - val_accuracy: 0.8333\n",
            "Epoch 49/50\n",
            "24/24 [==============================] - 0s 3ms/step - loss: 0.3471 - accuracy: 0.8577 - val_loss: 0.3797 - val_accuracy: 0.8333\n",
            "Epoch 50/50\n",
            "24/24 [==============================] - 0s 2ms/step - loss: 0.3552 - accuracy: 0.8577 - val_loss: 0.3809 - val_accuracy: 0.8333\n"
          ]
        }
      ]
    },
    {
      "cell_type": "code",
      "metadata": {
        "colab": {
          "base_uri": "https://localhost:8080/",
          "height": 295
        },
        "id": "7f-JVMBNZI6b",
        "outputId": "5c2832c8-d7aa-46e2-c373-85e799ffa11c"
      },
      "source": [
        "import matplotlib.pyplot as plt\n",
        "%matplotlib inline\n",
        "# Model accuracy\n",
        "plt.plot(history.history['accuracy'])\n",
        "plt.plot(history.history['val_accuracy'])\n",
        "plt.title('Model Accuracy')\n",
        "plt.ylabel('accuracy')\n",
        "plt.xlabel('epoch')\n",
        "plt.legend(['train', 'test'])\n",
        "plt.show()"
      ],
      "execution_count": null,
      "outputs": [
        {
          "output_type": "display_data",
          "data": {
            "image/png": "[encoded data removed]",
            "text/plain": [
              "<Figure size 432x288 with 1 Axes>"
            ]
          },
          "metadata": {
            "needs_background": "light"
          }
        }
      ]
    },
    {
      "cell_type": "code",
      "metadata": {
        "colab": {
          "base_uri": "https://localhost:8080/",
          "height": 295
        },
        "id": "FqZ6d75tZSg_",
        "outputId": "f99c20d0-09cd-42c6-e92a-4b26c2942f48"
      },
      "source": [
        "# Model Losss\n",
        "plt.plot(history.history['loss'])\n",
        "plt.plot(history.history['val_loss'])\n",
        "plt.title('Model Loss')\n",
        "plt.ylabel('loss')\n",
        "plt.xlabel('epoch')\n",
        "plt.legend(['train', 'test'])\n",
        "plt.show()"
      ],
      "execution_count": null,
      "outputs": [
        {
          "output_type": "display_data",
          "data": {
            "image/png": "[encoded data removed]",
            "text/plain": [
              "<Figure size 432x288 with 1 Axes>"
            ]
          },
          "metadata": {
            "needs_background": "light"
          }
        }
      ]
    }
  ]
}