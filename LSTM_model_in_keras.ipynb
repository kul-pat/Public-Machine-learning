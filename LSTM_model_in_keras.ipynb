{
  "nbformat": 4,
  "nbformat_minor": 0,
  "metadata": {
    "colab": {
      "name": "LSTM model in keras.ipynb",
      "provenance": [],
      "authorship_tag": "ABX9TyN8BHZOHt5RowzIdt5TYi4Q"
    },
    "kernelspec": {
      "name": "python3",
      "display_name": "Python 3"
    },
    "language_info": {
      "name": "python"
    }
  },
  "cells": [
    {
      "cell_type": "code",
      "metadata": {
        "id": "4zTbOvfOht3P"
      },
      "source": [
        "import tensorflow as tf\n",
        "from tensorflow import keras\n",
        "from tensorflow.keras.models import Sequential\n",
        "from tensorflow.keras.layers import Dense,Dropout,LSTM"
      ],
      "execution_count": null,
      "outputs": []
    },
    {
      "cell_type": "code",
      "metadata": {
        "colab": {
          "base_uri": "https://localhost:8080/"
        },
        "id": "hdbOJYlTis-d",
        "outputId": "34a10a75-1598-4694-9275-e276e4c3f5ba"
      },
      "source": [
        "mnist = tf.keras.datasets.mnist\n",
        "(x_train, y_train),(x_test,y_test)= mnist.load_data()"
      ],
      "execution_count": null,
      "outputs": [
        {
          "output_type": "stream",
          "name": "stdout",
          "text": [
            "Downloading data from https://storage.googleapis.com/tensorflow/tf-keras-datasets/mnist.npz\n",
            "11493376/11490434 [==============================] - 0s 0us/step\n",
            "11501568/11490434 [==============================] - 0s 0us/step\n"
          ]
        }
      ]
    },
    {
      "cell_type": "code",
      "metadata": {
        "colab": {
          "base_uri": "https://localhost:8080/"
        },
        "id": "F5AZtI1UjIWq",
        "outputId": "2119596f-df57-4a4d-bcc0-9cbf53a52c03"
      },
      "source": [
        "print(x_train.shape)\n",
        "print(x_train[0].shape)"
      ],
      "execution_count": null,
      "outputs": [
        {
          "output_type": "stream",
          "name": "stdout",
          "text": [
            "(60000, 28, 28)\n",
            "(28, 28)\n"
          ]
        }
      ]
    },
    {
      "cell_type": "code",
      "metadata": {
        "id": "j011hdgSjVlK"
      },
      "source": [
        "x_train = x_train/255.0\n",
        "x_test = x_test/255.0"
      ],
      "execution_count": null,
      "outputs": []
    },
    {
      "cell_type": "code",
      "metadata": {
        "id": "ItW4zRKqjp3q",
        "colab": {
          "base_uri": "https://localhost:8080/"
        },
        "outputId": "e4c8db85-a5a2-4dd8-c5a7-34329a6c9cf5"
      },
      "source": [
        "model = Sequential()\n",
        "model.add(LSTM(128,activation= 'relu',input_shape = (x_train.shape[1:]),return_sequences=True))\n",
        "model.add(Dropout(0.2))\n",
        "\n",
        "model.add(LSTM(128, activation='relu'))\n",
        "model.add(Dropout(0.2))\n",
        "\n",
        "model.add(Dense(32,activation='relu'))\n",
        "model.add(Dropout(0.2))\n",
        "\n",
        "model.add(Dense(10,activation = 'softmax'))\n",
        "opt = tf.keras.optimizers.Adam(lr= 1e-3,decay=1e-5)\n",
        "\n",
        "model.compile(optimizer= opt, \n",
        "             metrics =['accuracy'], \n",
        "             loss = 'sparse_categorical_crossentropy')\n",
        "\n",
        "history = model.fit(x= x_train,y=y_train, validation_data =(x_test,y_test),epochs=3)\n",
        "\n",
        "\n"
      ],
      "execution_count": 11,
      "outputs": [
        {
          "output_type": "stream",
          "name": "stderr",
          "text": [
            "/usr/local/lib/python3.7/dist-packages/keras/optimizer_v2/adam.py:105: UserWarning: The `lr` argument is deprecated, use `learning_rate` instead.\n",
            "  super(Adam, self).__init__(name, **kwargs)\n"
          ]
        },
        {
          "output_type": "stream",
          "name": "stdout",
          "text": [
            "Epoch 1/3\n",
            "1875/1875 [==============================] - 136s 72ms/step - loss: 0.6420 - accuracy: 0.7924 - val_loss: 0.1912 - val_accuracy: 0.9429\n",
            "Epoch 2/3\n",
            "1875/1875 [==============================] - 134s 71ms/step - loss: 0.1838 - accuracy: 0.9500 - val_loss: 0.0997 - val_accuracy: 0.9715\n",
            "Epoch 3/3\n",
            "1875/1875 [==============================] - 134s 72ms/step - loss: 0.1168 - accuracy: 0.9685 - val_loss: 0.0861 - val_accuracy: 0.9761\n"
          ]
        }
      ]
    },
    {
      "cell_type": "code",
      "metadata": {
        "colab": {
          "base_uri": "https://localhost:8080/",
          "height": 295
        },
        "id": "1gc_SYpRw4jA",
        "outputId": "cd6d7831-d157-4621-fc81-4c1f1c249720"
      },
      "source": [
        "# Model accuracy\n",
        "plt.plot(history.history['accuracy'])\n",
        "plt.plot(history.history['val_accuracy'])\n",
        "plt.title('Model Accuracy')\n",
        "plt.ylabel('accuracy')\n",
        "plt.xlabel('epoch')\n",
        "plt.legend(['train', 'test'])\n",
        "plt.show()\n"
      ],
      "execution_count": 12,
      "outputs": [
        {
          "output_type": "display_data",
          "data": {
            "image/png": "[encoded data removed]",
            "text/plain": [
              "<Figure size 432x288 with 1 Axes>"
            ]
          },
          "metadata": {
            "needs_background": "light"
          }
        }
      ]
    },
    {
      "cell_type": "code",
      "metadata": {
        "id": "K0vel5pWteaD"
      },
      "source": [
        ""
      ],
      "execution_count": null,
      "outputs": []
    }
  ]
}