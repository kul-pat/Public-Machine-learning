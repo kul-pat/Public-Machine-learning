{
  "nbformat": 4,
  "nbformat_minor": 0,
  "metadata": {
    "colab": {
      "name": "House prediction using Linear regression.ipynb",
      "provenance": [],
      "authorship_tag": "ABX9TyPruopVH7AzG+65lnAPzAew",
      "include_colab_link": true
    },
    "kernelspec": {
      "name": "python3",
      "display_name": "Python 3"
    },
    "language_info": {
      "name": "python"
    }
  },
  "cells": [
    {
      "cell_type": "markdown",
      "metadata": {
        "id": "view-in-github",
        "colab_type": "text"
      },
      "source": [
        "<a href=\"https://colab.research.google.com/github/kul-pat/Public-Machine-learning/blob/main/House_prediction_using_Linear_regression.ipynb\" target=\"_parent\"><img src=\"https://colab.research.google.com/assets/colab-badge.svg\" alt=\"Open In Colab\"/></a>"
      ]
    },
    {
      "cell_type": "code",
      "metadata": {
        "id": "_1ld7ZDxmiOv"
      },
      "source": [
        "import numpy as np\n",
        "import pandas as pd\n",
        "import matplotlib.pyplot as plt"
      ],
      "execution_count": null,
      "outputs": []
    },
    {
      "cell_type": "markdown",
      "metadata": {
        "id": "Fc_IPtXhmzay"
      },
      "source": [
        "# data set uploading\n"
      ]
    },
    {
      "cell_type": "code",
      "metadata": {
        "id": "d6lE0oL0m6KJ"
      },
      "source": [
        "df = pd.read_csv('house_data.csv')\n",
        "df.head()"
      ],
      "execution_count": null,
      "outputs": []
    },
    {
      "cell_type": "code",
      "metadata": {
        "id": "S1Rib9_Knq4w"
      },
      "source": [
        "df.isnull().sum()"
      ],
      "execution_count": null,
      "outputs": []
    },
    {
      "cell_type": "code",
      "metadata": {
        "id": "tsHh0TZio5qO"
      },
      "source": [
        "df.info()"
      ],
      "execution_count": null,
      "outputs": []
    },
    {
      "cell_type": "code",
      "metadata": {
        "id": "3XMQFd8ypdck"
      },
      "source": [
        "df.drop(axis=1,columns= ['date','id'],inplace=True)"
      ],
      "execution_count": null,
      "outputs": []
    },
    {
      "cell_type": "code",
      "metadata": {
        "colab": {
          "base_uri": "https://localhost:8080/"
        },
        "id": "ifNCOpC6rLAj",
        "outputId": "7cb8614b-34b5-4b37-9bb0-99fd32a15b3a"
      },
      "source": [
        "df.shape"
      ],
      "execution_count": null,
      "outputs": [
        {
          "output_type": "execute_result",
          "data": {
            "text/plain": [
              "(21613, 19)"
            ]
          },
          "metadata": {},
          "execution_count": 19
        }
      ]
    },
    {
      "cell_type": "code",
      "metadata": {
        "id": "6eXRB9pQro_P"
      },
      "source": [
        "x = df.iloc[1:1000,3]\n",
        "y = df.iloc[1:1000,0]"
      ],
      "execution_count": null,
      "outputs": []
    },
    {
      "cell_type": "code",
      "metadata": {
        "id": "3ME6zii-3bEo"
      },
      "source": [
        ""
      ],
      "execution_count": null,
      "outputs": []
    },
    {
      "cell_type": "code",
      "metadata": {
        "id": "4NpI7gGk42wF"
      },
      "source": [
        "x = np.array(x)\n",
        "y= np.array(y)"
      ],
      "execution_count": null,
      "outputs": []
    },
    {
      "cell_type": "code",
      "metadata": {
        "colab": {
          "base_uri": "https://localhost:8080/"
        },
        "id": "hIjILIa1r5BL",
        "outputId": "38645ccb-358e-4498-c5f9-9742972dbfc7"
      },
      "source": [
        "y"
      ],
      "execution_count": null,
      "outputs": [
        {
          "output_type": "execute_result",
          "data": {
            "text/plain": [
              "array([ 538000.,  180000.,  604000.,  510000., 1225000.,  257500.,\n",
              "        291850.,  229500.,  323000.,  662500.,  468000.,  310000.,\n",
              "        400000.,  530000.,  650000.,  395000.,  485000.,  189000.,\n",
              "        230000.,  385000., 2000000.,  285000.,  252700.,  329000.,\n",
              "        233000.,  937000.,  667000.,  438000.,  719000.,  580500.,\n",
              "        280000.,  687500.,  535000.,  322500.,  696000.,  550000.,\n",
              "        640000.,  240000.,  605000.,  625000.,  775000.,  861990.,\n",
              "        685000.,  309000.,  488000.,  210490.,  785000.,  450000.,\n",
              "       1350000.,  228000.,  345000.,  600000.,  585000.,  920000.,\n",
              "        885000.,  292500.,  301000.,  951000.,  430000.,  650000.,\n",
              "        289000.,  505000.,  549000.,  425000.,  317625.,  975000.,\n",
              "        287000.,  204000., 1325000., 1040000.,  325000.,  571000.,\n",
              "        360000.,  349000.,  832500.,  380000.,  480000.,  410000.,\n",
              "        720000.,  390000.,  360000.,  355000.,  356000.,  315000.,\n",
              "        940000.,  305000.,  461000.,  215000.,  335000.,  243500.,\n",
              "       1099880.,  153000.,  430000.,  700000.,  905000.,  247500.,\n",
              "        199000.,  314000.,  437500.,  850830.,  555000.,  699950.,\n",
              "       1088000.,  290000.,  375000.,  460000.,  188500.,  680000.,\n",
              "        470000.,  597750.,  570000.,  272500.,  329950.,  480000.,\n",
              "        740500.,  518500.,  205425.,  171800.,  535000.,  660000.,\n",
              "        391500.,  395000.,  445000.,  770000., 1450000.,  445000.,\n",
              "        260000.,  822500.,  430000.,  212000.,  660500.,  784000.,\n",
              "        453246.,  675000.,  199000.,  220000.,  452000.,  382500.,\n",
              "        519950.,  665000.,  527700.,  205000.,  420000.,  500000.,\n",
              "        921500.,  890000.,  430000.,  258000.,  511000.,  532170.,\n",
              "        560000.,  282950., 2250000.,  350000.,  215000.,  650000.,\n",
              "        320000.,  247000.,  320000.,  255000.,  438000.,  900000.,\n",
              "        441000.,  420000.,  370000.,  269950.,  807100.,  653000.,\n",
              "        371500.,  284000.,  272000.,  313000.,  917500.,  673000.,\n",
              "        425000.,  399950.,  385000.,  269950.,  330000.,  260000.,\n",
              "        470000.,  589000.,  163500.,  835000., 1095000.,  269000.,\n",
              "        560000.,  615000.,  585188.,  305000.,  166950.,  799000.,\n",
              "        400000.,  230000.,  256883.,  423000.,  465000.,  440000.,\n",
              "        385000.,  210000.,  297000.,  470000.,  226500.,  274250.,\n",
              "        840000.,  677900.,  425000.,  180250.,  464000.,  320000.,\n",
              "        625504.,  592500.,  465000.,  477000.,  280000., 1505000.,\n",
              "        445838., 1072000.,  467000.,  686000.,  279950.,  527000.,\n",
              "        325000.,  328000.,  390000.,  479950.,  264950.,  235000.,\n",
              "        516500.,  655000.,  500000.,  315000.,  213000.,  475000.,\n",
              "       1025000.,  416000.,  410000.,  800000.,  472000.,  225000.,\n",
              "        210000.,  455000.,  225000.,  480000.,  363000., 2400000.,\n",
              "        181000.,  250000.,  481000.,  260000.,  455000.,  415000.,\n",
              "        349500.,  245000.,  592500.,  385000.,  315000.,  255000.,\n",
              "        693000.,  780000.,  237000.,  525000.,  425000.,  369900.,\n",
              "        290000.,  285000.,  415000.,  272500., 2900000., 1365000.,\n",
              "        436000.,  210000.,  236000.,  331000.,  365000.,  450000.,\n",
              "        770000.,  455000.,  405000.,  304900.,  170000., 2050000.,\n",
              "        780000.,  330000.,  370000.,  467000.,  405000.,  675000.,\n",
              "        500000.,  389999.,  630000.,  360000.,  580000.,  550000.,\n",
              "        879000.,  265000.,  446500.,  404000.,  267500., 3075000.,\n",
              "        335000.,  576000.,  208633.,  315000.,  725000.,  550000.,\n",
              "        610750.,  550700.,  665000.,  834000.,  201000., 2384000.,\n",
              "       1384000., 1400000.,  305000.,  487000.,  390000.,  548000.,\n",
              "        268750.,  819900.,  520000.,  230000.,  240000.,  232000.,\n",
              "        240500.,  274975.,  740000.,  186375.,  790000.,  880000.,\n",
              "        279000.,  295000.,  640000.,  940000.,  260000.,  559900.,\n",
              "        791500.,  265000.,  245000.,  485000.,  684000.,  425000.,\n",
              "        309600.,  552250.,  165000.,  239900.,  320000.,  206600.,\n",
              "        387000.,  299000.,  855000.,  315000.,  437500.,  252000.,\n",
              "        375000.,  300000.,  420000.,  900000.,  679900.,  463000.,\n",
              "        380000.,  329500.,  604950.,  795000.,  465000.,  673000.,\n",
              "        810000.,  785000.,  338000.,  280000.,  315000.,  530000.,\n",
              "        380000.,  297000.,  730000.,  450000.,  275000.,  595000.,\n",
              "        435000.,  270000.,  950000.,  389000.,  560000., 1350000.,\n",
              "        799000.,  365500.,  252350.,  403950.,  385000.,  345000.,\n",
              "        490000.,  330000.,  927000., 1118000.,  330000.,  530000.,\n",
              "        365000.,  378750.,  269900.,  557000.,  360000.,  352000.,\n",
              "        437000.,  322500.,  650000.,  450000.,  278500.,  364950.,\n",
              "        840000.,  268000.,  517534.,  632925.,  577500.,  339000.,\n",
              "        570000.,  563500.,  423000.,  355000., 1550000.,  482000.,\n",
              "        625000.,  538000.,  380000.,  375000.,  245000.,  310000.,\n",
              "       1300000.,  397000.,  365000.,  328500.,  988000., 1000000.,\n",
              "        237000.,  525000.,  749000.,  722500.,  843000.,  438000.,\n",
              "        578000.,  227950.,  196000.,  641000.,  350000.,  205000.,\n",
              "        400000., 1030000.,  505000.,  475000.,  520000., 1450000.,\n",
              "        333500.,  232000.,  691100.,  811000.,  551000.,  496500.,\n",
              "        705000.,  578000.,  255000., 1050000.,  348000.,  230000.,\n",
              "        359500.,  330000.,   80000.,  465000.,  325000.,  340500.,\n",
              "        342500.,  290900.,  868700., 1199000., 1150000.,  859900.,\n",
              "        520000.,  460000.,  438924.,  315000.,  590000.,  378500.,\n",
              "        328500.,  849950.,  525000., 1385000.,  295000., 1067000.,\n",
              "        207950.,  699900., 1280000.,  452000.,  370000.,  232000.,\n",
              "        669950.,  397500.,  490000.,  725000.,  299000.,  625000.,\n",
              "        437500.,  650000.,  475000.,  342000., 1197350.,  280000.,\n",
              "        240000.,  529000.,  442000.,  615000., 1485000.,  585000.,\n",
              "        480000., 1095000.,  290000.,  615000.,  300000.,  308000.,\n",
              "        750000., 2250000.,  890000.,  288000.,  190000.,  515000.,\n",
              "        235000.,  275000.,  727500.,  650000., 1600000.,  365000.,\n",
              "        662000.,  270500.,  200000.,  970000.,  160000.,  204000.,\n",
              "        358000.,  452000.,  595000.,  249000.,  346900., 2125000.,\n",
              "        280000.,  318888.,  530000.,  375000.,  910000.,  782000.,\n",
              "        259950.,  315000.,  215000.,  705000., 1450000.,  451000.,\n",
              "        261000.,  396000.,  725000., 1950000.,  238000.,  750000.,\n",
              "        331500.,  460000.,  404950.,  880000.,  863000.,  638700.,\n",
              "        435000.,  260000.,  671500.,  610000.,  405000.,  338900.,\n",
              "        720000.,  442000.,  650000.,  263500.,  300000.,  266000.,\n",
              "        930000.,  530000.,  180000.,  619000.,  264000.,  730000.,\n",
              "        439000.,  268500.,  330000.,  640000.,  900000.,  370000.,\n",
              "        685000.,  505000.,  265000.,  290000.,  296000.,  360000.,\n",
              "        240500.,  372500.,  595000.,  515000., 1220000.,  507000.,\n",
              "        399950.,  185000.,  460000.,  435500.,  469000.,  531000.,\n",
              "        443500.,  223000.,  590000.,  340000.,  650000.,  533600.,\n",
              "        695000.,  242000.,  425000.,  525000.,  485000.,  175000.,\n",
              "        210000.,  260000.,  577000.,  200000.,  605000.,  325000.,\n",
              "        289500.,  559950., 1042500.,  543500.,  480000.,  218000.,\n",
              "        565000.,  426700.,  650000.,  542000.,  415000.,  214000.,\n",
              "        245000.,  314500., 1120000.,  378000.,  305000.,  595000.,\n",
              "        729500.,  430000.,  240000.,  545000.,  530000.,  157000.,\n",
              "        425000.,  220000.,  521000.,  325000.,  597500.,  337000.,\n",
              "       1000000., 3070000.,  495000.,  748000.,  888000.,  269900.,\n",
              "        496500.,  475000.,  312000.,  323000.,  331000.,  306000.,\n",
              "        655000.,  290000., 1250000.,  460000.,  435000.,  664000.,\n",
              "        865000.,  385000.,  497000.,  280000.,  188000.,  478500.,\n",
              "       1145000.,  222000.,  799000.,  609900.,  413000.,  400000.,\n",
              "        802541.,  320000.,  507000.,  387500.,  396000.,  373000.,\n",
              "       1484900.,  359900.,  410000.,  690000.,  245000.,  700000.,\n",
              "        268000.,  225000.,  980000.,  795000.,  195000.,  480000.,\n",
              "        485000.,  130000.,  325000.,  440000.,  550000.,  310000.,\n",
              "        530000.,  390000.,  243000.,  639000.,  215000.,  405000.,\n",
              "        250000.,  405500.,  452000.,  730000.,  267000.,  289950.,\n",
              "        565000., 1578000.,  636000.,  350000.,  320000.,  210000.,\n",
              "        245000.,  328000.,  985000.,  501000.,  315000.,  403000.,\n",
              "        550000.,  347500.,  365000.,  588000.,  605000., 1300000.,\n",
              "        233000.,  360000.,  459000.,  740000.,  305000.,  395000.,\n",
              "        560000.,  650000.,  449950.,  517500.,  435000.,  329999.,\n",
              "        950000.,  447000.,  699800.,  850000.,  316500.,  942500.,\n",
              "       1310000.,  856600.,  405600.,  565000.,  400000.,  330000.,\n",
              "        374950.,  405300.,  560000.,  824000.,  260000.,  760000.,\n",
              "        405000.,  429900.,  341500.,  465250.,  450000.,  390000.,\n",
              "        420000.,  269950.,  493000.,  370000., 2250000.,  305000.,\n",
              "        400000.,  320000.,  715000.,  650000.,  218000.,  500000.,\n",
              "        460000.,  232500.,  408200.,  522000.,  675000., 1355000.,\n",
              "        249950.,  210000.,  429950.,  737500.,  710000.,  470000.,\n",
              "       1100000.,  650000., 1216000.,  422120.,  625000.,  385200.,\n",
              "        500000.,  308000.,  565000.,  581000.,  361000.,  345000.,\n",
              "        419000.,  347000.,  625000., 2400000.,  379000.,  310000.,\n",
              "        250000.,  682000.,  246500.,  325000.,  310950., 1100000.,\n",
              "        287500.,  431000.,  226000.,  825000.,  175000.,  465750.,\n",
              "        659000.,  595000.,  350000.,  270000.,  662500.,  249900.,\n",
              "        324500.,  430000.,  419950.,  285000.,  332000.,  282000.,\n",
              "        320000.,  428750.,  330000.,  456500.,  352000.,  664000.,\n",
              "        628000.,  512000.,  254000.,  535800.,  287653.,  438000.,\n",
              "        450000.,  327000.,  370500.,  265000.,  450000.,  425000.,\n",
              "        166600.,  245000.,  565000.,  539900.,  910000.,  280000.,\n",
              "        275000.,  467000.,  457500.,  381156.,  289999.,  642450.,\n",
              "        469950.,  795000.,  785000.,  860000., 1095000.,  147500.,\n",
              "        390000.,  229000.,  185000.,  414900.,  200000.,  225000.,\n",
              "        720000.,  930000., 1270000.,  700000.,  466000.,  374000.,\n",
              "        480000.,  740000., 1010000.,  395000.,  340000.,  209000.,\n",
              "        431650.,  980000.,  660000.,  730000.,  291500.,  905000.,\n",
              "        800000.,  839900.,  200000.,  300000.,  530000.,  314950.,\n",
              "        255000.,  550000.,  435000.,  234000.,  615000.,  205000.,\n",
              "        384000.,  324000.,  645000.,  570000.,  324000.,  270000.,\n",
              "        290000.,  250000.,  342000.,  255000.,  800000.,  451000.,\n",
              "        990000.,  288400.,  420000.,  359000.,  390000.,  300000.,\n",
              "        545000.,  288349.,  299900.,  891000., 1200000.,  378000.,\n",
              "        299995.,  253000.,  350000.,  565000.,  315000.,  570000.,\n",
              "        971000.,  915000.,  419000.,  260000., 1321500.,  369950.,\n",
              "       1029900.,  435000.,  601000.,  460500.,  720000.,  851000.,\n",
              "        550000.,  700000.,  323000.,  345500.,  378000.,  650000.,\n",
              "        385000.,  425000.,  210000.,  630000.,  335000.,  196500.,\n",
              "        582800.,  440000.,  752500.,  532500.,  265000.,  397500.,\n",
              "        524250.,  765000.,  648000.,  469500.,  237500.,  216000.,\n",
              "        427200.,  280000.,  718000.,  420000.,  379000.,  326100.,\n",
              "        535000.,  283000.,  260000.,  399000.,  484950.,  640000.,\n",
              "        585000.,  645000.,  253000.,  178500.,  291000.,  199950.,\n",
              "        553500.,  189950.,  289000.])"
            ]
          },
          "metadata": {},
          "execution_count": 44
        }
      ]
    },
    {
      "cell_type": "code",
      "metadata": {
        "id": "Wh8UYJ8y7zZF"
      },
      "source": [
        "x= x.reshape(-1,1)"
      ],
      "execution_count": null,
      "outputs": []
    },
    {
      "cell_type": "code",
      "metadata": {
        "colab": {
          "base_uri": "https://localhost:8080/"
        },
        "id": "b34gc2Bh74nc",
        "outputId": "0c8715f2-927e-43e3-ab6d-1ed74dbb1bec"
      },
      "source": [
        "x.shape"
      ],
      "execution_count": null,
      "outputs": [
        {
          "output_type": "execute_result",
          "data": {
            "text/plain": [
              "(999, 1)"
            ]
          },
          "metadata": {},
          "execution_count": 46
        }
      ]
    },
    {
      "cell_type": "code",
      "metadata": {
        "id": "GYXGBh-jr7hX"
      },
      "source": [
        "from sklearn.model_selection import train_test_split"
      ],
      "execution_count": null,
      "outputs": []
    },
    {
      "cell_type": "code",
      "metadata": {
        "id": "9My5eoZNsFGv"
      },
      "source": [
        "x_train,x_test,y_train,y_test = train_test_split(x,y,test_size = 0.2,shuffle =True,random_state=40)"
      ],
      "execution_count": null,
      "outputs": []
    },
    {
      "cell_type": "code",
      "metadata": {
        "colab": {
          "base_uri": "https://localhost:8080/"
        },
        "id": "dhpuWVrNsM-f",
        "outputId": "e90d90e9-87d0-40a6-9a2c-f0c74d8dd0b3"
      },
      "source": [
        "#lets build the model\n",
        "from sklearn.linear_model import LinearRegression\n",
        "HP =LinearRegression()\n",
        "HP.fit(x_train,y_train)"
      ],
      "execution_count": null,
      "outputs": [
        {
          "output_type": "execute_result",
          "data": {
            "text/plain": [
              "LinearRegression(copy_X=True, fit_intercept=True, n_jobs=None, normalize=False)"
            ]
          },
          "metadata": {},
          "execution_count": 49
        }
      ]
    },
    {
      "cell_type": "code",
      "metadata": {
        "id": "JwKhmE55tDPy"
      },
      "source": [
        "#Predict the test Result\n",
        "y_pred = HP.predict(x_test)\n",
        "print(y_pred)"
      ],
      "execution_count": null,
      "outputs": []
    },
    {
      "cell_type": "code",
      "metadata": {
        "colab": {
          "base_uri": "https://localhost:8080/",
          "height": 306
        },
        "id": "tO5rBI7n8fGX",
        "outputId": "0805089d-0e35-4b73-f730-e27941ad74e4"
      },
      "source": [
        "plt.scatter(y_test,y_pred)"
      ],
      "execution_count": null,
      "outputs": [
        {
          "output_type": "execute_result",
          "data": {
            "text/plain": [
              "<matplotlib.collections.PathCollection at 0x7fd7b758ee90>"
            ]
          },
          "metadata": {},
          "execution_count": 54
        },
        {
          "output_type": "display_data",
          "data": {
            "image/png": "[encoded data removed]",
            "text/plain": [
              "<Figure size 432x288 with 1 Axes>"
            ]
          },
          "metadata": {}
        }
      ]
    },
    {
      "cell_type": "code",
      "metadata": {
        "colab": {
          "base_uri": "https://localhost:8080/"
        },
        "id": "_67olUDPtOHX",
        "outputId": "df1c68f4-c2c5-4d36-af46-8257efbe4cdd"
      },
      "source": [
        "# evaluate the model\n",
        "from sklearn.metrics import r2_score\n",
        "r2_score(y_test,y_pred)"
      ],
      "execution_count": null,
      "outputs": [
        {
          "output_type": "execute_result",
          "data": {
            "text/plain": [
              "0.5004459249386937"
            ]
          },
          "metadata": {},
          "execution_count": 55
        }
      ]
    },
    {
      "cell_type": "code",
      "metadata": {
        "colab": {
          "base_uri": "https://localhost:8080/",
          "height": 306
        },
        "id": "jfQT8QKFtn5_",
        "outputId": "fbbb8399-1a33-4cdb-db2f-0431822759d1"
      },
      "source": [
        "import seaborn as sns\n",
        "sns.set_style('dark')\n",
        "sns.regplot(x=y_pred,y=y_test)"
      ],
      "execution_count": null,
      "outputs": [
        {
          "output_type": "execute_result",
          "data": {
            "text/plain": [
              "<matplotlib.axes._subplots.AxesSubplot at 0x7fd7a31d6bd0>"
            ]
          },
          "metadata": {},
          "execution_count": 56
        },
        {
          "output_type": "display_data",
          "data": {
            "image/png": "[encoded data removed]",
            "text/plain": [
              "<Figure size 432x288 with 1 Axes>"
            ]
          },
          "metadata": {}
        }
      ]
    }
  ]
}