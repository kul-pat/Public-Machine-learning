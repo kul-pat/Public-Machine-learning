{
  "nbformat": 4,
  "nbformat_minor": 0,
  "metadata": {
    "colab": {
      "name": "Copy of DIABETES FINAL.ipynb",
      "provenance": [],
      "authorship_tag": "ABX9TyPjeHB8hByJZZihZhOWdTFe",
      "include_colab_link": true
    },
    "kernelspec": {
      "name": "python3",
      "display_name": "Python 3"
    },
    "language_info": {
      "name": "python"
    }
  },
  "cells": [
    {
      "cell_type": "markdown",
      "metadata": {
        "id": "view-in-github",
        "colab_type": "text"
      },
      "source": [
        "<a href=\"https://colab.research.google.com/github/kul-pat/Public-Machine-learning/blob/main/Copy_of_DIABETES_FINAL.ipynb\" target=\"_parent\"><img src=\"https://colab.research.google.com/assets/colab-badge.svg\" alt=\"Open In Colab\"/></a>"
      ]
    },
    {
      "cell_type": "code",
      "metadata": {
        "id": "FwRwfm41Drgp"
      },
      "source": [
        "import numpy as np\n",
        "import pandas as pd\n",
        "import sklearn\n",
        "from sklearn.model_selection import train_test_split\n",
        "from sklearn.ensemble import RandomForestClassifier"
      ],
      "execution_count": null,
      "outputs": []
    },
    {
      "cell_type": "code",
      "metadata": {
        "colab": {
          "base_uri": "https://localhost:8080/",
          "height": 204
        },
        "id": "AYrKroXpEsv5",
        "outputId": "a39ee1b5-79b7-4e69-e08b-598b3583abdd"
      },
      "source": [
        "## Loadind datasets\n",
        "df =pd.read_csv('diabetes.csv')\n",
        "df.head()"
      ],
      "execution_count": null,
      "outputs": [
        {
          "output_type": "execute_result",
          "data": {
            "text/html": [
              "<div>\n",
              "<style scoped>\n",
              "    .dataframe tbody tr th:only-of-type {\n",
              "        vertical-align: middle;\n",
              "    }\n",
              "\n",
              "    .dataframe tbody tr th {\n",
              "        vertical-align: top;\n",
              "    }\n",
              "\n",
              "    .dataframe thead th {\n",
              "        text-align: right;\n",
              "    }\n",
              "</style>\n",
              "<table border=\"1\" class=\"dataframe\">\n",
              "  <thead>\n",
              "    <tr style=\"text-align: right;\">\n",
              "      <th></th>\n",
              "      <th>Pregnancies</th>\n",
              "      <th>Glucose</th>\n",
              "      <th>BloodPressure</th>\n",
              "      <th>SkinThickness</th>\n",
              "      <th>Insulin</th>\n",
              "      <th>BMI</th>\n",
              "      <th>DiabetesPedigreeFunction</th>\n",
              "      <th>Age</th>\n",
              "      <th>Outcome</th>\n",
              "    </tr>\n",
              "  </thead>\n",
              "  <tbody>\n",
              "    <tr>\n",
              "      <th>0</th>\n",
              "      <td>6</td>\n",
              "      <td>148</td>\n",
              "      <td>72</td>\n",
              "      <td>35</td>\n",
              "      <td>0</td>\n",
              "      <td>33.6</td>\n",
              "      <td>0.627</td>\n",
              "      <td>50</td>\n",
              "      <td>1</td>\n",
              "    </tr>\n",
              "    <tr>\n",
              "      <th>1</th>\n",
              "      <td>1</td>\n",
              "      <td>85</td>\n",
              "      <td>66</td>\n",
              "      <td>29</td>\n",
              "      <td>0</td>\n",
              "      <td>26.6</td>\n",
              "      <td>0.351</td>\n",
              "      <td>31</td>\n",
              "      <td>0</td>\n",
              "    </tr>\n",
              "    <tr>\n",
              "      <th>2</th>\n",
              "      <td>8</td>\n",
              "      <td>183</td>\n",
              "      <td>64</td>\n",
              "      <td>0</td>\n",
              "      <td>0</td>\n",
              "      <td>23.3</td>\n",
              "      <td>0.672</td>\n",
              "      <td>32</td>\n",
              "      <td>1</td>\n",
              "    </tr>\n",
              "    <tr>\n",
              "      <th>3</th>\n",
              "      <td>1</td>\n",
              "      <td>89</td>\n",
              "      <td>66</td>\n",
              "      <td>23</td>\n",
              "      <td>94</td>\n",
              "      <td>28.1</td>\n",
              "      <td>0.167</td>\n",
              "      <td>21</td>\n",
              "      <td>0</td>\n",
              "    </tr>\n",
              "    <tr>\n",
              "      <th>4</th>\n",
              "      <td>0</td>\n",
              "      <td>137</td>\n",
              "      <td>40</td>\n",
              "      <td>35</td>\n",
              "      <td>168</td>\n",
              "      <td>43.1</td>\n",
              "      <td>2.288</td>\n",
              "      <td>33</td>\n",
              "      <td>1</td>\n",
              "    </tr>\n",
              "  </tbody>\n",
              "</table>\n",
              "</div>"
            ],
            "text/plain": [
              "   Pregnancies  Glucose  BloodPressure  ...  DiabetesPedigreeFunction  Age  Outcome\n",
              "0            6      148             72  ...                     0.627   50        1\n",
              "1            1       85             66  ...                     0.351   31        0\n",
              "2            8      183             64  ...                     0.672   32        1\n",
              "3            1       89             66  ...                     0.167   21        0\n",
              "4            0      137             40  ...                     2.288   33        1\n",
              "\n",
              "[5 rows x 9 columns]"
            ]
          },
          "metadata": {},
          "execution_count": 34
        }
      ]
    },
    {
      "cell_type": "code",
      "metadata": {
        "colab": {
          "base_uri": "https://localhost:8080/"
        },
        "id": "tphk0qi-L71j",
        "outputId": "055741e3-c193-4d2b-deff-00c4f8ecd798"
      },
      "source": [
        "df.all()\n"
      ],
      "execution_count": null,
      "outputs": [
        {
          "output_type": "execute_result",
          "data": {
            "text/plain": [
              "Pregnancies                 False\n",
              "Glucose                     False\n",
              "BloodPressure               False\n",
              "SkinThickness               False\n",
              "Insulin                     False\n",
              "BMI                         False\n",
              "DiabetesPedigreeFunction     True\n",
              "Age                          True\n",
              "Outcome                     False\n",
              "dtype: bool"
            ]
          },
          "metadata": {},
          "execution_count": 4
        }
      ]
    },
    {
      "cell_type": "code",
      "metadata": {
        "colab": {
          "base_uri": "https://localhost:8080/",
          "height": 204
        },
        "id": "RTY0mXghTUNE",
        "outputId": "119bbd2d-d9ae-4532-9741-7400864e71d5"
      },
      "source": [
        "df['Glucose']=np.where(df['Glucose']==0,df['Glucose'].median(),df['Glucose'])\n",
        "df['Insulin']=np.where(df['Insulin']==0,df['Insulin'].median(),df['Insulin'])\n",
        "df['SkinThickness']=np.where(df['SkinThickness']==0,df['SkinThickness'].median(),df['SkinThickness'])\n",
        "df['BloodPressure']=np.where(df['BloodPressure']==0,df['BloodPressure'].median(),df['BloodPressure'])\n",
        "df['BMI']=np.where(df['BMI']==0,df['BMI'].median(),df['BMI'])\n",
        "df.head()"
      ],
      "execution_count": null,
      "outputs": [
        {
          "output_type": "execute_result",
          "data": {
            "text/html": [
              "<div>\n",
              "<style scoped>\n",
              "    .dataframe tbody tr th:only-of-type {\n",
              "        vertical-align: middle;\n",
              "    }\n",
              "\n",
              "    .dataframe tbody tr th {\n",
              "        vertical-align: top;\n",
              "    }\n",
              "\n",
              "    .dataframe thead th {\n",
              "        text-align: right;\n",
              "    }\n",
              "</style>\n",
              "<table border=\"1\" class=\"dataframe\">\n",
              "  <thead>\n",
              "    <tr style=\"text-align: right;\">\n",
              "      <th></th>\n",
              "      <th>Pregnancies</th>\n",
              "      <th>Glucose</th>\n",
              "      <th>BloodPressure</th>\n",
              "      <th>SkinThickness</th>\n",
              "      <th>Insulin</th>\n",
              "      <th>BMI</th>\n",
              "      <th>DiabetesPedigreeFunction</th>\n",
              "      <th>Age</th>\n",
              "      <th>Outcome</th>\n",
              "    </tr>\n",
              "  </thead>\n",
              "  <tbody>\n",
              "    <tr>\n",
              "      <th>0</th>\n",
              "      <td>6</td>\n",
              "      <td>148.0</td>\n",
              "      <td>72.0</td>\n",
              "      <td>35.0</td>\n",
              "      <td>30.5</td>\n",
              "      <td>33.6</td>\n",
              "      <td>0.627</td>\n",
              "      <td>50</td>\n",
              "      <td>1</td>\n",
              "    </tr>\n",
              "    <tr>\n",
              "      <th>1</th>\n",
              "      <td>1</td>\n",
              "      <td>85.0</td>\n",
              "      <td>66.0</td>\n",
              "      <td>29.0</td>\n",
              "      <td>30.5</td>\n",
              "      <td>26.6</td>\n",
              "      <td>0.351</td>\n",
              "      <td>31</td>\n",
              "      <td>0</td>\n",
              "    </tr>\n",
              "    <tr>\n",
              "      <th>2</th>\n",
              "      <td>8</td>\n",
              "      <td>183.0</td>\n",
              "      <td>64.0</td>\n",
              "      <td>23.0</td>\n",
              "      <td>30.5</td>\n",
              "      <td>23.3</td>\n",
              "      <td>0.672</td>\n",
              "      <td>32</td>\n",
              "      <td>1</td>\n",
              "    </tr>\n",
              "    <tr>\n",
              "      <th>3</th>\n",
              "      <td>1</td>\n",
              "      <td>89.0</td>\n",
              "      <td>66.0</td>\n",
              "      <td>23.0</td>\n",
              "      <td>94.0</td>\n",
              "      <td>28.1</td>\n",
              "      <td>0.167</td>\n",
              "      <td>21</td>\n",
              "      <td>0</td>\n",
              "    </tr>\n",
              "    <tr>\n",
              "      <th>4</th>\n",
              "      <td>0</td>\n",
              "      <td>137.0</td>\n",
              "      <td>40.0</td>\n",
              "      <td>35.0</td>\n",
              "      <td>168.0</td>\n",
              "      <td>43.1</td>\n",
              "      <td>2.288</td>\n",
              "      <td>33</td>\n",
              "      <td>1</td>\n",
              "    </tr>\n",
              "  </tbody>\n",
              "</table>\n",
              "</div>"
            ],
            "text/plain": [
              "   Pregnancies  Glucose  BloodPressure  ...  DiabetesPedigreeFunction  Age  Outcome\n",
              "0            6    148.0           72.0  ...                     0.627   50        1\n",
              "1            1     85.0           66.0  ...                     0.351   31        0\n",
              "2            8    183.0           64.0  ...                     0.672   32        1\n",
              "3            1     89.0           66.0  ...                     0.167   21        0\n",
              "4            0    137.0           40.0  ...                     2.288   33        1\n",
              "\n",
              "[5 rows x 9 columns]"
            ]
          },
          "metadata": {},
          "execution_count": 5
        }
      ]
    },
    {
      "cell_type": "code",
      "metadata": {
        "id": "oMHH0U-R7X3B"
      },
      "source": [
        "#### Independent And Dependent features\n",
        "X=df.drop('Outcome',axis=1)\n",
        "y=df['Outcome']"
      ],
      "execution_count": null,
      "outputs": []
    },
    {
      "cell_type": "code",
      "metadata": {
        "colab": {
          "base_uri": "https://localhost:8080/"
        },
        "id": "JDcANjf9QLee",
        "outputId": "4907f08f-739b-4b0c-a6d7-50087881cbc8"
      },
      "source": [
        "y.value_counts()"
      ],
      "execution_count": null,
      "outputs": [
        {
          "output_type": "execute_result",
          "data": {
            "text/plain": [
              "0    500\n",
              "1    268\n",
              "Name: Outcome, dtype: int64"
            ]
          },
          "metadata": {},
          "execution_count": 7
        }
      ]
    },
    {
      "cell_type": "code",
      "metadata": {
        "colab": {
          "base_uri": "https://localhost:8080/",
          "height": 419
        },
        "id": "BDY3wFLaMI6O",
        "outputId": "b1f83f30-360b-4425-d071-ec45fc2fd25d"
      },
      "source": [
        "pd.DataFrame(X,columns=df.columns[:-1])"
      ],
      "execution_count": null,
      "outputs": [
        {
          "output_type": "execute_result",
          "data": {
            "text/html": [
              "<div>\n",
              "<style scoped>\n",
              "    .dataframe tbody tr th:only-of-type {\n",
              "        vertical-align: middle;\n",
              "    }\n",
              "\n",
              "    .dataframe tbody tr th {\n",
              "        vertical-align: top;\n",
              "    }\n",
              "\n",
              "    .dataframe thead th {\n",
              "        text-align: right;\n",
              "    }\n",
              "</style>\n",
              "<table border=\"1\" class=\"dataframe\">\n",
              "  <thead>\n",
              "    <tr style=\"text-align: right;\">\n",
              "      <th></th>\n",
              "      <th>Pregnancies</th>\n",
              "      <th>Glucose</th>\n",
              "      <th>BloodPressure</th>\n",
              "      <th>SkinThickness</th>\n",
              "      <th>Insulin</th>\n",
              "      <th>BMI</th>\n",
              "      <th>DiabetesPedigreeFunction</th>\n",
              "      <th>Age</th>\n",
              "    </tr>\n",
              "  </thead>\n",
              "  <tbody>\n",
              "    <tr>\n",
              "      <th>0</th>\n",
              "      <td>6</td>\n",
              "      <td>148.0</td>\n",
              "      <td>72.0</td>\n",
              "      <td>35.0</td>\n",
              "      <td>30.5</td>\n",
              "      <td>33.6</td>\n",
              "      <td>0.627</td>\n",
              "      <td>50</td>\n",
              "    </tr>\n",
              "    <tr>\n",
              "      <th>1</th>\n",
              "      <td>1</td>\n",
              "      <td>85.0</td>\n",
              "      <td>66.0</td>\n",
              "      <td>29.0</td>\n",
              "      <td>30.5</td>\n",
              "      <td>26.6</td>\n",
              "      <td>0.351</td>\n",
              "      <td>31</td>\n",
              "    </tr>\n",
              "    <tr>\n",
              "      <th>2</th>\n",
              "      <td>8</td>\n",
              "      <td>183.0</td>\n",
              "      <td>64.0</td>\n",
              "      <td>23.0</td>\n",
              "      <td>30.5</td>\n",
              "      <td>23.3</td>\n",
              "      <td>0.672</td>\n",
              "      <td>32</td>\n",
              "    </tr>\n",
              "    <tr>\n",
              "      <th>3</th>\n",
              "      <td>1</td>\n",
              "      <td>89.0</td>\n",
              "      <td>66.0</td>\n",
              "      <td>23.0</td>\n",
              "      <td>94.0</td>\n",
              "      <td>28.1</td>\n",
              "      <td>0.167</td>\n",
              "      <td>21</td>\n",
              "    </tr>\n",
              "    <tr>\n",
              "      <th>4</th>\n",
              "      <td>0</td>\n",
              "      <td>137.0</td>\n",
              "      <td>40.0</td>\n",
              "      <td>35.0</td>\n",
              "      <td>168.0</td>\n",
              "      <td>43.1</td>\n",
              "      <td>2.288</td>\n",
              "      <td>33</td>\n",
              "    </tr>\n",
              "    <tr>\n",
              "      <th>...</th>\n",
              "      <td>...</td>\n",
              "      <td>...</td>\n",
              "      <td>...</td>\n",
              "      <td>...</td>\n",
              "      <td>...</td>\n",
              "      <td>...</td>\n",
              "      <td>...</td>\n",
              "      <td>...</td>\n",
              "    </tr>\n",
              "    <tr>\n",
              "      <th>763</th>\n",
              "      <td>10</td>\n",
              "      <td>101.0</td>\n",
              "      <td>76.0</td>\n",
              "      <td>48.0</td>\n",
              "      <td>180.0</td>\n",
              "      <td>32.9</td>\n",
              "      <td>0.171</td>\n",
              "      <td>63</td>\n",
              "    </tr>\n",
              "    <tr>\n",
              "      <th>764</th>\n",
              "      <td>2</td>\n",
              "      <td>122.0</td>\n",
              "      <td>70.0</td>\n",
              "      <td>27.0</td>\n",
              "      <td>30.5</td>\n",
              "      <td>36.8</td>\n",
              "      <td>0.340</td>\n",
              "      <td>27</td>\n",
              "    </tr>\n",
              "    <tr>\n",
              "      <th>765</th>\n",
              "      <td>5</td>\n",
              "      <td>121.0</td>\n",
              "      <td>72.0</td>\n",
              "      <td>23.0</td>\n",
              "      <td>112.0</td>\n",
              "      <td>26.2</td>\n",
              "      <td>0.245</td>\n",
              "      <td>30</td>\n",
              "    </tr>\n",
              "    <tr>\n",
              "      <th>766</th>\n",
              "      <td>1</td>\n",
              "      <td>126.0</td>\n",
              "      <td>60.0</td>\n",
              "      <td>23.0</td>\n",
              "      <td>30.5</td>\n",
              "      <td>30.1</td>\n",
              "      <td>0.349</td>\n",
              "      <td>47</td>\n",
              "    </tr>\n",
              "    <tr>\n",
              "      <th>767</th>\n",
              "      <td>1</td>\n",
              "      <td>93.0</td>\n",
              "      <td>70.0</td>\n",
              "      <td>31.0</td>\n",
              "      <td>30.5</td>\n",
              "      <td>30.4</td>\n",
              "      <td>0.315</td>\n",
              "      <td>23</td>\n",
              "    </tr>\n",
              "  </tbody>\n",
              "</table>\n",
              "<p>768 rows × 8 columns</p>\n",
              "</div>"
            ],
            "text/plain": [
              "     Pregnancies  Glucose  BloodPressure  ...   BMI  DiabetesPedigreeFunction  Age\n",
              "0              6    148.0           72.0  ...  33.6                     0.627   50\n",
              "1              1     85.0           66.0  ...  26.6                     0.351   31\n",
              "2              8    183.0           64.0  ...  23.3                     0.672   32\n",
              "3              1     89.0           66.0  ...  28.1                     0.167   21\n",
              "4              0    137.0           40.0  ...  43.1                     2.288   33\n",
              "..           ...      ...            ...  ...   ...                       ...  ...\n",
              "763           10    101.0           76.0  ...  32.9                     0.171   63\n",
              "764            2    122.0           70.0  ...  36.8                     0.340   27\n",
              "765            5    121.0           72.0  ...  26.2                     0.245   30\n",
              "766            1    126.0           60.0  ...  30.1                     0.349   47\n",
              "767            1     93.0           70.0  ...  30.4                     0.315   23\n",
              "\n",
              "[768 rows x 8 columns]"
            ]
          },
          "metadata": {},
          "execution_count": 8
        }
      ]
    },
    {
      "cell_type": "code",
      "metadata": {
        "id": "j8HXzQNz7fWn"
      },
      "source": [
        "#### Train Test Split\n",
        "from sklearn.model_selection import train_test_split\n",
        "X_train,X_test,y_train,y_test=train_test_split(X,y,test_size=0.20,random_state=0)"
      ],
      "execution_count": null,
      "outputs": []
    },
    {
      "cell_type": "code",
      "metadata": {
        "id": "KFmIACVdWhRq"
      },
      "source": [
        "from sklearn.ensemble import RandomForestClassifier\n",
        "rf_classifier=RandomForestClassifier(bootstrap=True, ccp_alpha=0.0, class_weight=None,\n",
        "                       criterion='gini', max_depth=230, max_features='sqrt',\n",
        "                       max_leaf_nodes=None, max_samples=None,\n",
        "                       min_impurity_decrease=0.0, min_impurity_split=None,\n",
        "                       min_samples_leaf=10, min_samples_split=15,\n",
        "                       min_weight_fraction_leaf=0.0, n_estimators=800,\n",
        "                       n_jobs=None, oob_score=False, random_state=None,\n",
        "                       verbose=0, warm_start=False).fit(X_train,y_train)\n",
        "prediction=rf_classifier.predict(X_test)"
      ],
      "execution_count": null,
      "outputs": []
    },
    {
      "cell_type": "code",
      "metadata": {
        "colab": {
          "base_uri": "https://localhost:8080/"
        },
        "id": "kp1M0-bKXxbL",
        "outputId": "7b873158-a43d-44d9-a7d9-be4a2411eac3"
      },
      "source": [
        "from sklearn.metrics import confusion_matrix,classification_report,accuracy_score\n",
        "print(confusion_matrix(y_test,prediction))\n",
        "print(accuracy_score(y_test,prediction))\n",
        "print(classification_report(y_test,prediction))"
      ],
      "execution_count": null,
      "outputs": [
        {
          "output_type": "stream",
          "name": "stdout",
          "text": [
            "[[98  9]\n",
            " [18 29]]\n",
            "0.8246753246753247\n",
            "              precision    recall  f1-score   support\n",
            "\n",
            "           0       0.84      0.92      0.88       107\n",
            "           1       0.76      0.62      0.68        47\n",
            "\n",
            "    accuracy                           0.82       154\n",
            "   macro avg       0.80      0.77      0.78       154\n",
            "weighted avg       0.82      0.82      0.82       154\n",
            "\n"
          ]
        }
      ]
    },
    {
      "cell_type": "code",
      "metadata": {
        "colab": {
          "base_uri": "https://localhost:8080/",
          "height": 279
        },
        "id": "kGfHxMd5P-Cr",
        "outputId": "1206204f-3bd5-4763-8cc8-0468226362d8"
      },
      "source": [
        "import matplotlib.pyplot as plt\n",
        "from sklearn.metrics import plot_confusion_matrix\n",
        "plot_confusion_matrix(rf_classifier, X_test, y_test)  \n",
        "plt.show()"
      ],
      "execution_count": null,
      "outputs": [
        {
          "output_type": "display_data",
          "data": {
            "image/png": "[encoded data removed]",
            "text/plain": [
              "<Figure size 432x288 with 2 Axes>"
            ]
          },
          "metadata": {
            "needs_background": "light"
          }
        }
      ]
    },
    {
      "cell_type": "code",
      "metadata": {
        "colab": {
          "base_uri": "https://localhost:8080/"
        },
        "id": "2TyA_paCf86c",
        "outputId": "f84ea09e-ed06-4d84-e846-6b4d64c5c702"
      },
      "source": [
        "!pip install optuna"
      ],
      "execution_count": null,
      "outputs": [
        {
          "output_type": "stream",
          "name": "stdout",
          "text": [
            "Collecting optuna\n",
            "  Downloading optuna-2.10.0-py3-none-any.whl (308 kB)\n",
            "\u001b[K     |████████████████████████████████| 308 kB 5.0 MB/s \n",
            "\u001b[?25hCollecting cliff\n",
            "  Downloading cliff-3.9.0-py3-none-any.whl (80 kB)\n",
            "\u001b[K     |████████████████████████████████| 80 kB 7.4 MB/s \n",
            "\u001b[?25hCollecting alembic\n",
            "  Downloading alembic-1.7.4-py3-none-any.whl (209 kB)\n",
            "\u001b[K     |████████████████████████████████| 209 kB 37.8 MB/s \n",
            "\u001b[?25hRequirement already satisfied: numpy in /usr/local/lib/python3.7/dist-packages (from optuna) (1.19.5)\n",
            "Requirement already satisfied: packaging>=20.0 in /usr/local/lib/python3.7/dist-packages (from optuna) (21.0)\n",
            "Requirement already satisfied: tqdm in /usr/local/lib/python3.7/dist-packages (from optuna) (4.62.3)\n",
            "Requirement already satisfied: scipy!=1.4.0 in /usr/local/lib/python3.7/dist-packages (from optuna) (1.4.1)\n",
            "Collecting colorlog\n",
            "  Downloading colorlog-6.5.0-py2.py3-none-any.whl (11 kB)\n",
            "Collecting cmaes>=0.8.2\n",
            "  Downloading cmaes-0.8.2-py3-none-any.whl (15 kB)\n",
            "Requirement already satisfied: PyYAML in /usr/local/lib/python3.7/dist-packages (from optuna) (3.13)\n",
            "Requirement already satisfied: sqlalchemy>=1.1.0 in /usr/local/lib/python3.7/dist-packages (from optuna) (1.4.25)\n",
            "Requirement already satisfied: pyparsing>=2.0.2 in /usr/local/lib/python3.7/dist-packages (from packaging>=20.0->optuna) (2.4.7)\n",
            "Requirement already satisfied: importlib-metadata in /usr/local/lib/python3.7/dist-packages (from sqlalchemy>=1.1.0->optuna) (4.8.1)\n",
            "Requirement already satisfied: greenlet!=0.4.17 in /usr/local/lib/python3.7/dist-packages (from sqlalchemy>=1.1.0->optuna) (1.1.2)\n",
            "Collecting Mako\n",
            "  Downloading Mako-1.1.5-py2.py3-none-any.whl (75 kB)\n",
            "\u001b[K     |████████████████████████████████| 75 kB 4.2 MB/s \n",
            "\u001b[?25hRequirement already satisfied: importlib-resources in /usr/local/lib/python3.7/dist-packages (from alembic->optuna) (5.2.2)\n",
            "Requirement already satisfied: PrettyTable>=0.7.2 in /usr/local/lib/python3.7/dist-packages (from cliff->optuna) (2.2.1)\n",
            "Collecting autopage>=0.4.0\n",
            "  Downloading autopage-0.4.0-py3-none-any.whl (20 kB)\n",
            "Collecting cmd2>=1.0.0\n",
            "  Downloading cmd2-2.2.0-py3-none-any.whl (144 kB)\n",
            "\u001b[K     |████████████████████████████████| 144 kB 56.3 MB/s \n",
            "\u001b[?25hCollecting pbr!=2.1.0,>=2.0.0\n",
            "  Downloading pbr-5.7.0-py2.py3-none-any.whl (112 kB)\n",
            "\u001b[K     |████████████████████████████████| 112 kB 57.7 MB/s \n",
            "\u001b[?25hCollecting stevedore>=2.0.1\n",
            "  Downloading stevedore-3.5.0-py3-none-any.whl (49 kB)\n",
            "\u001b[K     |████████████████████████████████| 49 kB 4.7 MB/s \n",
            "\u001b[?25hCollecting colorama>=0.3.7\n",
            "  Downloading colorama-0.4.4-py2.py3-none-any.whl (16 kB)\n",
            "Collecting pyperclip>=1.6\n",
            "  Downloading pyperclip-1.8.2.tar.gz (20 kB)\n",
            "Requirement already satisfied: typing-extensions in /usr/local/lib/python3.7/dist-packages (from cmd2>=1.0.0->cliff->optuna) (3.7.4.3)\n",
            "Requirement already satisfied: attrs>=16.3.0 in /usr/local/lib/python3.7/dist-packages (from cmd2>=1.0.0->cliff->optuna) (21.2.0)\n",
            "Requirement already satisfied: wcwidth>=0.1.7 in /usr/local/lib/python3.7/dist-packages (from cmd2>=1.0.0->cliff->optuna) (0.2.5)\n",
            "Requirement already satisfied: zipp>=0.5 in /usr/local/lib/python3.7/dist-packages (from importlib-metadata->sqlalchemy>=1.1.0->optuna) (3.6.0)\n",
            "Requirement already satisfied: MarkupSafe>=0.9.2 in /usr/local/lib/python3.7/dist-packages (from Mako->alembic->optuna) (2.0.1)\n",
            "Building wheels for collected packages: pyperclip\n",
            "  Building wheel for pyperclip (setup.py) ... \u001b[?25l\u001b[?25hdone\n",
            "  Created wheel for pyperclip: filename=pyperclip-1.8.2-py3-none-any.whl size=11136 sha256=aae14476d777c9cc5abef1c585dd6914b0faaae22ed501646dd42edac3f73885\n",
            "  Stored in directory: /root/.cache/pip/wheels/9f/18/84/8f69f8b08169c7bae2dde6bd7daf0c19fca8c8e500ee620a28\n",
            "Successfully built pyperclip\n",
            "Installing collected packages: pyperclip, pbr, colorama, stevedore, Mako, cmd2, autopage, colorlog, cmaes, cliff, alembic, optuna\n",
            "Successfully installed Mako-1.1.5 alembic-1.7.4 autopage-0.4.0 cliff-3.9.0 cmaes-0.8.2 cmd2-2.2.0 colorama-0.4.4 colorlog-6.5.0 optuna-2.10.0 pbr-5.7.0 pyperclip-1.8.2 stevedore-3.5.0\n"
          ]
        }
      ]
    },
    {
      "cell_type": "code",
      "metadata": {
        "id": "DVQIsFBIgBkN"
      },
      "source": [
        "import optuna\n",
        "import sklearn.svm\n",
        "def objective(trial):\n",
        "    classifier = X_train,y_train\n",
        "    n_estimators = trial.suggest_int('n_estimators', 2, 2000)\n",
        "    max_depth = int(trial.suggest_float('max_depth', 1, 200))\n",
        "    optimizer = trial.suggest_categorical('rf_criterion', ['gini', 'entropy'])\n",
        "    clf = sklearn.ensemble.RandomForestClassifier(n_estimators=n_estimators,max_depth=max_depth,criterion=optimizer)\n",
        "    return sklearn.model_selection.cross_val_score(clf, X_train,y_train, \n",
        "           n_jobs=-1, cv=10).mean()"
      ],
      "execution_count": null,
      "outputs": []
    },
    {
      "cell_type": "code",
      "metadata": {
        "colab": {
          "base_uri": "https://localhost:8080/"
        },
        "id": "JcuRffCogTMN",
        "outputId": "3c63ead5-0265-4511-85fe-633cde3af609"
      },
      "source": [
        "study = optuna.create_study(direction='maximize')\n",
        "study.optimize(objective, n_trials=50)\n",
        "\n",
        "trial = study.best_trial\n",
        "\n",
        "print('Accuracy: {}'.format(trial.value))\n",
        "print(\"Best hyperparameters: {}\".format(trial.params))"
      ],
      "execution_count": null,
      "outputs": [
        {
          "output_type": "stream",
          "name": "stderr",
          "text": [
            "\u001b[32m[I 2021-11-06 09:49:47,739]\u001b[0m A new study created in memory with name: no-name-102af8ed-109d-4539-afc0-c23c2fdacc0b\u001b[0m\n",
            "\u001b[32m[I 2021-11-06 09:50:24,150]\u001b[0m Trial 0 finished with value: 0.7491538868323637 and parameters: {'n_estimators': 1971, 'max_depth': 71.1637957757582, 'rf_criterion': 'entropy'}. Best is trial 0 with value: 0.7491538868323637.\u001b[0m\n",
            "\u001b[32m[I 2021-11-06 09:50:48,477]\u001b[0m Trial 1 finished with value: 0.7427287149656266 and parameters: {'n_estimators': 1568, 'max_depth': 54.09344322208823, 'rf_criterion': 'gini'}. Best is trial 0 with value: 0.7491538868323637.\u001b[0m\n",
            "\u001b[32m[I 2021-11-06 09:51:00,538]\u001b[0m Trial 2 finished with value: 0.7475409836065573 and parameters: {'n_estimators': 780, 'max_depth': 90.88305121821207, 'rf_criterion': 'gini'}. Best is trial 0 with value: 0.7491538868323637.\u001b[0m\n",
            "\u001b[32m[I 2021-11-06 09:51:19,399]\u001b[0m Trial 3 finished with value: 0.7475409836065573 and parameters: {'n_estimators': 1054, 'max_depth': 104.83033358772069, 'rf_criterion': 'entropy'}. Best is trial 0 with value: 0.7491538868323637.\u001b[0m\n",
            "\u001b[32m[I 2021-11-06 09:51:49,730]\u001b[0m Trial 4 finished with value: 0.7573506081438393 and parameters: {'n_estimators': 1783, 'max_depth': 9.611273462266132, 'rf_criterion': 'entropy'}. Best is trial 4 with value: 0.7573506081438393.\u001b[0m\n",
            "\u001b[32m[I 2021-11-06 09:52:10,754]\u001b[0m Trial 5 finished with value: 0.7524061343204653 and parameters: {'n_estimators': 1172, 'max_depth': 181.64675688531776, 'rf_criterion': 'entropy'}. Best is trial 4 with value: 0.7573506081438393.\u001b[0m\n",
            "\u001b[32m[I 2021-11-06 09:52:11,474]\u001b[0m Trial 6 finished with value: 0.7329190904283449 and parameters: {'n_estimators': 42, 'max_depth': 76.49995483283746, 'rf_criterion': 'gini'}. Best is trial 4 with value: 0.7573506081438393.\u001b[0m\n",
            "\u001b[32m[I 2021-11-06 09:52:31,088]\u001b[0m Trial 7 finished with value: 0.7540454785827604 and parameters: {'n_estimators': 1277, 'max_depth': 77.17814920099441, 'rf_criterion': 'gini'}. Best is trial 4 with value: 0.7573506081438393.\u001b[0m\n",
            "\u001b[32m[I 2021-11-06 09:52:53,349]\u001b[0m Trial 8 finished with value: 0.7459016393442622 and parameters: {'n_estimators': 1242, 'max_depth': 78.68383146521076, 'rf_criterion': 'entropy'}. Best is trial 4 with value: 0.7573506081438393.\u001b[0m\n",
            "\u001b[32m[I 2021-11-06 09:53:04,539]\u001b[0m Trial 9 finished with value: 0.7459809624537282 and parameters: {'n_estimators': 626, 'max_depth': 114.48187020865443, 'rf_criterion': 'entropy'}. Best is trial 4 with value: 0.7573506081438393.\u001b[0m\n",
            "\u001b[32m[I 2021-11-06 09:53:29,624]\u001b[0m Trial 10 finished with value: 0.6595980962453728 and parameters: {'n_estimators': 1981, 'max_depth': 1.232764567843276, 'rf_criterion': 'entropy'}. Best is trial 4 with value: 0.7573506081438393.\u001b[0m\n",
            "\u001b[32m[I 2021-11-06 09:53:51,106]\u001b[0m Trial 11 finished with value: 0.7540454785827605 and parameters: {'n_estimators': 1561, 'max_depth': 4.3099382329254095, 'rf_criterion': 'gini'}. Best is trial 4 with value: 0.7573506081438393.\u001b[0m\n",
            "\u001b[32m[I 2021-11-06 09:54:16,106]\u001b[0m Trial 12 finished with value: 0.7540190375462718 and parameters: {'n_estimators': 1693, 'max_depth': 7.909687775499621, 'rf_criterion': 'gini'}. Best is trial 4 with value: 0.7573506081438393.\u001b[0m\n",
            "\u001b[32m[I 2021-11-06 09:54:39,975]\u001b[0m Trial 13 finished with value: 0.7492332099418297 and parameters: {'n_estimators': 1535, 'max_depth': 36.31811215706975, 'rf_criterion': 'gini'}. Best is trial 4 with value: 0.7573506081438393.\u001b[0m\n",
            "\u001b[32m[I 2021-11-06 09:55:06,659]\u001b[0m Trial 14 finished with value: 0.7460074034902168 and parameters: {'n_estimators': 1706, 'max_depth': 32.20287422610953, 'rf_criterion': 'gini'}. Best is trial 4 with value: 0.7573506081438393.\u001b[0m\n",
            "\u001b[32m[I 2021-11-06 09:55:32,438]\u001b[0m Trial 15 finished with value: 0.7459280803807509 and parameters: {'n_estimators': 1434, 'max_depth': 140.03049148944166, 'rf_criterion': 'entropy'}. Best is trial 4 with value: 0.7573506081438393.\u001b[0m\n",
            "\u001b[32m[I 2021-11-06 09:56:00,375]\u001b[0m Trial 16 finished with value: 0.7442887361184558 and parameters: {'n_estimators': 1806, 'max_depth': 25.16135849472414, 'rf_criterion': 'gini'}. Best is trial 4 with value: 0.7573506081438393.\u001b[0m\n",
            "\u001b[32m[I 2021-11-06 09:56:14,687]\u001b[0m Trial 17 finished with value: 0.7524061343204653 and parameters: {'n_estimators': 799, 'max_depth': 137.51268667670104, 'rf_criterion': 'entropy'}. Best is trial 4 with value: 0.7573506081438393.\u001b[0m\n",
            "\u001b[32m[I 2021-11-06 09:56:20,180]\u001b[0m Trial 18 finished with value: 0.7427022739291381 and parameters: {'n_estimators': 308, 'max_depth': 46.01048371270654, 'rf_criterion': 'entropy'}. Best is trial 4 with value: 0.7573506081438393.\u001b[0m\n",
            "\u001b[32m[I 2021-11-06 09:56:43,475]\u001b[0m Trial 19 finished with value: 0.7475674246430459 and parameters: {'n_estimators': 1499, 'max_depth': 18.245551746848424, 'rf_criterion': 'gini'}. Best is trial 4 with value: 0.7573506081438393.\u001b[0m\n",
            "\u001b[32m[I 2021-11-06 09:57:15,031]\u001b[0m Trial 20 finished with value: 0.7443416181914331 and parameters: {'n_estimators': 1774, 'max_depth': 196.38882172623323, 'rf_criterion': 'entropy'}. Best is trial 4 with value: 0.7573506081438393.\u001b[0m\n",
            "\u001b[32m[I 2021-11-06 09:57:35,117]\u001b[0m Trial 21 finished with value: 0.7394235854045478 and parameters: {'n_estimators': 1306, 'max_depth': 57.161692043624434, 'rf_criterion': 'gini'}. Best is trial 4 with value: 0.7573506081438393.\u001b[0m\n",
            "\u001b[32m[I 2021-11-06 09:57:51,294]\u001b[0m Trial 22 finished with value: 0.6644632469592808 and parameters: {'n_estimators': 1297, 'max_depth': 1.6823305258792383, 'rf_criterion': 'gini'}. Best is trial 4 with value: 0.7573506081438393.\u001b[0m\n",
            "\u001b[32m[I 2021-11-06 09:58:07,722]\u001b[0m Trial 23 finished with value: 0.7410364886303543 and parameters: {'n_estimators': 1066, 'max_depth': 19.26356684385115, 'rf_criterion': 'gini'}. Best is trial 4 with value: 0.7573506081438393.\u001b[0m\n",
            "\u001b[32m[I 2021-11-06 09:58:29,574]\u001b[0m Trial 24 finished with value: 0.7459809624537282 and parameters: {'n_estimators': 1411, 'max_depth': 123.01021082626424, 'rf_criterion': 'gini'}. Best is trial 4 with value: 0.7573506081438393.\u001b[0m\n",
            "\u001b[32m[I 2021-11-06 09:58:43,561]\u001b[0m Trial 25 finished with value: 0.7475938656795347 and parameters: {'n_estimators': 902, 'max_depth': 41.518239826882294, 'rf_criterion': 'gini'}. Best is trial 4 with value: 0.7573506081438393.\u001b[0m\n",
            "\u001b[32m[I 2021-11-06 09:59:12,298]\u001b[0m Trial 26 finished with value: 0.7459280803807509 and parameters: {'n_estimators': 1857, 'max_depth': 16.389392022587664, 'rf_criterion': 'gini'}. Best is trial 4 with value: 0.7573506081438393.\u001b[0m\n",
            "\u001b[32m[I 2021-11-06 09:59:37,427]\u001b[0m Trial 27 finished with value: 0.7523796932839767 and parameters: {'n_estimators': 1631, 'max_depth': 65.5810662811017, 'rf_criterion': 'gini'}. Best is trial 4 with value: 0.7573506081438393.\u001b[0m\n",
            "\u001b[32m[I 2021-11-06 10:00:02,196]\u001b[0m Trial 28 finished with value: 0.7475674246430459 and parameters: {'n_estimators': 1391, 'max_depth': 33.10949828176224, 'rf_criterion': 'entropy'}. Best is trial 4 with value: 0.7573506081438393.\u001b[0m\n",
            "\u001b[32m[I 2021-11-06 10:00:36,195]\u001b[0m Trial 29 finished with value: 0.7410364886303543 and parameters: {'n_estimators': 1900, 'max_depth': 91.23356476357021, 'rf_criterion': 'entropy'}. Best is trial 4 with value: 0.7573506081438393.\u001b[0m\n",
            "\u001b[32m[I 2021-11-06 10:00:44,571]\u001b[0m Trial 30 finished with value: 0.7410364886303542 and parameters: {'n_estimators': 540, 'max_depth': 155.8215057007422, 'rf_criterion': 'gini'}. Best is trial 4 with value: 0.7573506081438393.\u001b[0m\n",
            "\u001b[32m[I 2021-11-06 10:01:10,385]\u001b[0m Trial 31 finished with value: 0.7540983606557377 and parameters: {'n_estimators': 1715, 'max_depth': 9.275734981857994, 'rf_criterion': 'gini'}. Best is trial 4 with value: 0.7573506081438393.\u001b[0m\n",
            "\u001b[32m[I 2021-11-06 10:01:35,428]\u001b[0m Trial 32 finished with value: 0.7459280803807509 and parameters: {'n_estimators': 1617, 'max_depth': 50.391892481374754, 'rf_criterion': 'gini'}. Best is trial 4 with value: 0.7573506081438393.\u001b[0m\n",
            "\u001b[32m[I 2021-11-06 10:01:59,351]\u001b[0m Trial 33 finished with value: 0.7394235854045479 and parameters: {'n_estimators': 1555, 'max_depth': 12.48333758967072, 'rf_criterion': 'gini'}. Best is trial 4 with value: 0.7573506081438393.\u001b[0m\n",
            "\u001b[32m[I 2021-11-06 10:02:30,100]\u001b[0m Trial 34 finished with value: 0.7443680592279217 and parameters: {'n_estimators': 1985, 'max_depth': 26.366665995840776, 'rf_criterion': 'gini'}. Best is trial 4 with value: 0.7573506081438393.\u001b[0m\n",
            "\u001b[32m[I 2021-11-06 10:02:47,903]\u001b[0m Trial 35 finished with value: 0.7361713379164463 and parameters: {'n_estimators': 1145, 'max_depth': 66.44447998155147, 'rf_criterion': 'gini'}. Best is trial 4 with value: 0.7573506081438393.\u001b[0m\n",
            "\u001b[32m[I 2021-11-06 10:03:14,992]\u001b[0m Trial 36 finished with value: 0.749206768905341 and parameters: {'n_estimators': 1754, 'max_depth': 87.79591143821706, 'rf_criterion': 'gini'}. Best is trial 4 with value: 0.7573506081438393.\u001b[0m\n",
            "\u001b[32m[I 2021-11-06 10:03:39,174]\u001b[0m Trial 37 finished with value: 0.7491803278688524 and parameters: {'n_estimators': 1358, 'max_depth': 59.37960104061671, 'rf_criterion': 'entropy'}. Best is trial 4 with value: 0.7573506081438393.\u001b[0m\n",
            "\u001b[32m[I 2021-11-06 10:04:07,806]\u001b[0m Trial 38 finished with value: 0.7491803278688525 and parameters: {'n_estimators': 1873, 'max_depth': 10.502964445346535, 'rf_criterion': 'gini'}. Best is trial 4 with value: 0.7573506081438393.\u001b[0m\n",
            "\u001b[32m[I 2021-11-06 10:04:29,322]\u001b[0m Trial 39 finished with value: 0.749206768905341 and parameters: {'n_estimators': 1198, 'max_depth': 107.61947451721892, 'rf_criterion': 'entropy'}. Best is trial 4 with value: 0.7573506081438393.\u001b[0m\n",
            "\u001b[32m[I 2021-11-06 10:04:49,890]\u001b[0m Trial 40 finished with value: 0.6644368059227921 and parameters: {'n_estimators': 1642, 'max_depth': 1.7497281596069092, 'rf_criterion': 'gini'}. Best is trial 4 with value: 0.7573506081438393.\u001b[0m\n",
            "\u001b[32m[I 2021-11-06 10:05:16,456]\u001b[0m Trial 41 finished with value: 0.7508196721311475 and parameters: {'n_estimators': 1721, 'max_depth': 11.25040415921855, 'rf_criterion': 'gini'}. Best is trial 4 with value: 0.7573506081438393.\u001b[0m\n",
            "\u001b[32m[I 2021-11-06 10:05:40,290]\u001b[0m Trial 42 finished with value: 0.7475674246430459 and parameters: {'n_estimators': 1541, 'max_depth': 26.33441609832145, 'rf_criterion': 'gini'}. Best is trial 4 with value: 0.7573506081438393.\u001b[0m\n",
            "\u001b[32m[I 2021-11-06 10:06:03,012]\u001b[0m Trial 43 finished with value: 0.7540983606557377 and parameters: {'n_estimators': 1473, 'max_depth': 39.46963640603417, 'rf_criterion': 'gini'}. Best is trial 4 with value: 0.7573506081438393.\u001b[0m\n",
            "\u001b[32m[I 2021-11-06 10:06:25,392]\u001b[0m Trial 44 finished with value: 0.7427551560021153 and parameters: {'n_estimators': 1450, 'max_depth': 41.58237913217897, 'rf_criterion': 'gini'}. Best is trial 4 with value: 0.7573506081438393.\u001b[0m\n",
            "\u001b[32m[I 2021-11-06 10:06:43,086]\u001b[0m Trial 45 finished with value: 0.7492332099418297 and parameters: {'n_estimators': 1129, 'max_depth': 73.61938033371747, 'rf_criterion': 'gini'}. Best is trial 4 with value: 0.7573506081438393.\u001b[0m\n",
            "\u001b[32m[I 2021-11-06 10:06:59,883]\u001b[0m Trial 46 finished with value: 0.7459280803807509 and parameters: {'n_estimators': 944, 'max_depth': 24.067681536770223, 'rf_criterion': 'entropy'}. Best is trial 4 with value: 0.7573506081438393.\u001b[0m\n",
            "\u001b[32m[I 2021-11-06 10:07:19,438]\u001b[0m Trial 47 finished with value: 0.7427287149656266 and parameters: {'n_estimators': 1261, 'max_depth': 32.032276649922615, 'rf_criterion': 'gini'}. Best is trial 4 with value: 0.7573506081438393.\u001b[0m\n",
            "\u001b[32m[I 2021-11-06 10:07:46,266]\u001b[0m Trial 48 finished with value: 0.7475674246430459 and parameters: {'n_estimators': 1504, 'max_depth': 85.17802843119024, 'rf_criterion': 'entropy'}. Best is trial 4 with value: 0.7573506081438393.\u001b[0m\n",
            "\u001b[32m[I 2021-11-06 10:08:11,925]\u001b[0m Trial 49 finished with value: 0.7427287149656266 and parameters: {'n_estimators': 1656, 'max_depth': 50.13607595103776, 'rf_criterion': 'gini'}. Best is trial 4 with value: 0.7573506081438393.\u001b[0m\n"
          ]
        },
        {
          "output_type": "stream",
          "name": "stdout",
          "text": [
            "Accuracy: 0.7573506081438393\n",
            "Best hyperparameters: {'n_estimators': 1783, 'max_depth': 9.611273462266132, 'rf_criterion': 'entropy'}\n"
          ]
        }
      ]
    },
    {
      "cell_type": "code",
      "metadata": {
        "colab": {
          "base_uri": "https://localhost:8080/"
        },
        "id": "5WnkFdM7gb5I",
        "outputId": "180ac5e7-f4c4-47e7-bf03-a3953ff79e90"
      },
      "source": [
        "trial"
      ],
      "execution_count": null,
      "outputs": [
        {
          "output_type": "execute_result",
          "data": {
            "text/plain": [
              "FrozenTrial(number=69, values=[0.752415112386418], datetime_start=datetime.datetime(2021, 11, 6, 9, 13, 44, 635972), datetime_complete=datetime.datetime(2021, 11, 6, 9, 13, 49, 358189), params={'classifier': 'RandomForest', 'n_estimators': 1040, 'max_depth': 11.749619872671314}, distributions={'classifier': CategoricalDistribution(choices=('RandomForest', 'SVC')), 'n_estimators': IntUniformDistribution(high=2000, low=200, step=10), 'max_depth': LogUniformDistribution(high=100.0, low=10.0)}, user_attrs={}, system_attrs={}, intermediate_values={}, trial_id=69, state=TrialState.COMPLETE, value=None)"
            ]
          },
          "metadata": {},
          "execution_count": 18
        }
      ]
    },
    {
      "cell_type": "code",
      "metadata": {
        "colab": {
          "base_uri": "https://localhost:8080/"
        },
        "id": "pV-AIHs-gdrk",
        "outputId": "129a3a1d-69fc-430a-a9b3-257644e14a48"
      },
      "source": [
        "study.best_params"
      ],
      "execution_count": null,
      "outputs": [
        {
          "output_type": "execute_result",
          "data": {
            "text/plain": [
              "{'classifier': 'RandomForest',\n",
              " 'max_depth': 11.749619872671314,\n",
              " 'n_estimators': 1040}"
            ]
          },
          "metadata": {},
          "execution_count": 19
        }
      ]
    },
    {
      "cell_type": "code",
      "metadata": {
        "colab": {
          "base_uri": "https://localhost:8080/"
        },
        "id": "LU7W1Uk8gldL",
        "outputId": "5756668b-de76-4f58-9444-7a624677cb18"
      },
      "source": [
        "rf=RandomForestClassifier(n_estimators=1040,max_depth=12)\n",
        "rf.fit(X_train,y_train)"
      ],
      "execution_count": null,
      "outputs": [
        {
          "output_type": "execute_result",
          "data": {
            "text/plain": [
              "RandomForestClassifier(bootstrap=True, ccp_alpha=0.0, class_weight=None,\n",
              "                       criterion='gini', max_depth=12, max_features='auto',\n",
              "                       max_leaf_nodes=None, max_samples=None,\n",
              "                       min_impurity_decrease=0.0, min_impurity_split=None,\n",
              "                       min_samples_leaf=1, min_samples_split=2,\n",
              "                       min_weight_fraction_leaf=0.0, n_estimators=1040,\n",
              "                       n_jobs=None, oob_score=False, random_state=None,\n",
              "                       verbose=0, warm_start=False)"
            ]
          },
          "metadata": {},
          "execution_count": 20
        }
      ]
    },
    {
      "cell_type": "code",
      "metadata": {
        "colab": {
          "base_uri": "https://localhost:8080/"
        },
        "id": "Sr1PqlPmgorh",
        "outputId": "0c638000-4d07-438e-c229-3643b3336982"
      },
      "source": [
        "y_pred=rf.predict(X_test)\n",
        "print(confusion_matrix(y_test,y_pred))\n",
        "print(accuracy_score(y_test,y_pred))\n",
        "print(classification_report(y_test,y_pred))"
      ],
      "execution_count": null,
      "outputs": [
        {
          "output_type": "stream",
          "name": "stdout",
          "text": [
            "[[94 13]\n",
            " [16 31]]\n",
            "0.8116883116883117\n",
            "              precision    recall  f1-score   support\n",
            "\n",
            "           0       0.85      0.88      0.87       107\n",
            "           1       0.70      0.66      0.68        47\n",
            "\n",
            "    accuracy                           0.81       154\n",
            "   macro avg       0.78      0.77      0.77       154\n",
            "weighted avg       0.81      0.81      0.81       154\n",
            "\n"
          ]
        }
      ]
    }
  ]
}